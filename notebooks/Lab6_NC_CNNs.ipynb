{
 "cells": [
  {
   "cell_type": "markdown",
   "metadata": {},
   "source": [
    "# Convolutional Neural Networks¶\n",
    "\n",
    "Nick Chao"
   ]
  },
  {
   "cell_type": "markdown",
   "metadata": {},
   "source": [
    "#### Dataset Selection\n",
    "\n",
    "Select a dataset identically to the way you selected for the lab one (i.e., table data). You are not required to use the same dataset that you used in the past, but you are encouraged. You must identify a classification task from the dataset that contains three or more classes to predict. That is it cannot be a binary classification; it must be multi-class prediction. "
   ]
  },
  {
   "cell_type": "markdown",
   "metadata": {},
   "source": [
    "### Preparation (30 points total)  \n",
    "\n",
    "[15 points] Choose and explain what metric(s) you will use to evaluate your algorithm’s performance. You should give a detailed argument for why this (these) metric(s) are appropriate on your data. That is, why is the metric appropriate for the task (e.g., in terms of the business case for the task). Please note: rarely is accuracy the best evaluation metric to use. Think deeply about an appropriate measure of performance.\n",
    "\n",
    "[15 points] Choose the method you will use for dividing your data into training and testing (i.e., are you using Stratified 10-fold cross validation? Shuffle splits? Why?). Explain why your chosen method is appropriate or use more than one method as appropriate. Convince me that your cross validation method is a realistic mirroring of how an algorithm would be used in practice. \n",
    "\n",
    "### Modeling (60 points total)\n",
    "[15 points] Create a convolutional neural network to use on your data using Keras. Setup the training to use data expansion in Keras. Explain why the chosen data expansion techniques are appropriate for your dataset. \n",
    "\n",
    "[20 points] Investigate at least two different convolutional network architectures (and investigate changing some parameters of each architecture). Use the method of cross validation and evaluation metric that you argued for at the beginning of the lab. Visualize the performance of the training and validation sets per iteration (use the \"history\" parameter of Keras).\n",
    "\n",
    "[15 points] Visualize the final results of the CNNs and interpret the performance. Use proper statistics as appropriate, especially for comparing models. \n",
    "\n",
    "[10 points] Compare the performance of your convolutional network to a standard multi-layer perceptron (MLP) using the receiver operating characteristic and area under the curve. Use proper statistical comparison techniques.  \n",
    "\n",
    "### Exceptional Work (10 points total)\n",
    "\n",
    "You have free reign to provide additional analyses. \n",
    "One idea (required for 7000 level students): Use transfer learning to pre-train the weights of your initial layers of your CNN. Compare the performance when using transfer learning to training from scratch in terms of classification performance. "
   ]
  },
  {
   "cell_type": "markdown",
   "metadata": {},
   "source": [
    "### Business Understanding\n",
    "\n",
    "In this lab we will be dealing with image data. I've decided to use Cidar-10 small images as there are about 60,000 (32x32) images with the following labels:\n",
    "\n",
    "- airplane\n",
    "- automobile\n",
    "- bird\n",
    "- cat\n",
    "- deer\n",
    "- dog\n",
    "- frog\n",
    "- horse\n",
    "- ship\n",
    "- truck\n",
    "\n",
    "The goal with this lab is to create a model that can predict as well as possible according to the F1 Score. A succcessful model would have great applications with future technology as it can perform image recongnition with multiple classes. If it is possible to deploy a model that has a strong F1 score then it could be used for people large, expensive computationally expensive computers. \n",
    "\n",
    "For this to be an effective application, I would ideally want an F1 score of around 90% so that the majority of images can be classified correctly without the need for a human to intervene that much. However, this may not be possible so my goal would be around 70-75% but with high catagorical accuracy and without having to train the model for days. "
   ]
  },
  {
   "cell_type": "markdown",
   "metadata": {},
   "source": [
    "### Dependencies"
   ]
  },
  {
   "cell_type": "code",
   "execution_count": 1,
   "metadata": {},
   "outputs": [
    {
     "name": "stderr",
     "output_type": "stream",
     "text": [
      "/usr/local/es7/lib/python3.6/site-packages/h5py/__init__.py:36: FutureWarning: Conversion of the second argument of issubdtype from `float` to `np.floating` is deprecated. In future, it will be treated as `np.float64 == np.dtype(float).type`.\n",
      "  from ._conv import register_converters as _register_converters\n",
      "Using TensorFlow backend.\n"
     ]
    }
   ],
   "source": [
    "import os\n",
    "import keras\n",
    "import numpy as np\n",
    "import seaborn as sns\n",
    "import _pickle as pickle\n",
    "import scipy\n",
    "import pandas as pd\n",
    "\n",
    "from matplotlib import pyplot as plt\n",
    "\n",
    "from keras import backend as K\n",
    "from keras.datasets import cifar10\n",
    "from keras.models import Sequential, Input, Model\n",
    "from keras.layers import Reshape, Dense, Dropout, Activation, Flatten, Conv2D, MaxPooling2D, UpSampling2D\n",
    "from keras.regularizers import l2\n",
    "from keras.preprocessing.image import ImageDataGenerator\n",
    "from keras.layers.normalization import BatchNormalization\n",
    "from keras.callbacks import EarlyStopping\n",
    "\n",
    "from keras.constraints import maxnorm\n",
    "from keras.optimizers import SGD\n",
    "from keras.layers.convolutional import Conv2D, MaxPooling2D\n",
    "from keras.utils import np_utils\n",
    "\n",
    "from scipy import interp\n",
    "\n",
    "#skimage.transform.resize\n",
    "\n",
    "from sklearn import metrics as mt\n",
    "from sklearn.model_selection import StratifiedShuffleSplit\n",
    "from sklearn.preprocessing import StandardScaler\n",
    "from sklearn.neural_network import MLPClassifier\n",
    "from sklearn.pipeline import Pipeline\n",
    "#from skimage.io import imshow\n",
    "#from skimage.feature import daisy\n",
    "#from skimage.transform import resize\n",
    "#from skimage import data, color\n",
    "\n",
    "\n",
    "%matplotlib inline"
   ]
  },
  {
   "cell_type": "markdown",
   "metadata": {},
   "source": [
    "## Preparation"
   ]
  },
  {
   "cell_type": "code",
   "execution_count": 2,
   "metadata": {},
   "outputs": [],
   "source": [
    "# From https://keras.io/datasets/\n",
    "(X_train, Y_train), (X_test, Y_test) = cifar10.load_data()"
   ]
  },
  {
   "cell_type": "code",
   "execution_count": 3,
   "metadata": {},
   "outputs": [],
   "source": [
    "NUM_CLASSES = 10\n",
    "Y_train_ohe = keras.utils.to_categorical(Y_train, NUM_CLASSES)\n",
    "Y_test_ohe = keras.utils.to_categorical(Y_test, NUM_CLASSES)"
   ]
  },
  {
   "cell_type": "code",
   "execution_count": 4,
   "metadata": {},
   "outputs": [],
   "source": [
    "datagen = ImageDataGenerator(\n",
    "    rotation_range=5,\n",
    "    width_shift_range=0.1,\n",
    "    height_shift_range=0.1\n",
    ")\n",
    "datagen.fit(X_train)"
   ]
  },
  {
   "cell_type": "markdown",
   "metadata": {},
   "source": [
    "### Metrics"
   ]
  },
  {
   "cell_type": "markdown",
   "metadata": {},
   "source": [
    "Before we begain, we need to decide on a metric to measure the success of our model. When classifying an image, there are four possible cases that could occur. \n",
    "\n",
    "1) True Positive: The image is class X and it was classified as class X\n",
    "\n",
    "2) True Negative: The image is not class X and is not classified as X\n",
    "\n",
    "3) False Positive: The image is not class X and is classified as X\n",
    "\n",
    "4) False Negative: The image is class X and is not classified as X\n",
    "\n",
    "It should be noted that the TP and TN are complimentary and paired up with each other in these cases. \n",
    "\n",
    "More information about these cases can be found here https://www.researchgate.net/post/How_to_define_Ture_Positive_TP_True_NegativeTN_False_PositiveFP_False_NegativeFN\n",
    "\n",
    "For this lab, I have decided to use a combination of multiple metrics to get the best feel about the success of this model. I will use categorical accuracy for interpreting the confusion matrices. As for the models, F-Score makes the most sense. This is because F-score (or F1 Score) is a combination of recall and precision. A good recall would be the ability for the model to identify all X class images as X. A high precision is the ability for the model to be correct when it claims image X is of class X. Since F1 Score is not part of the keras metric library, we must create a custom macro F1 score to test our model. \n"
   ]
  },
  {
   "cell_type": "markdown",
   "metadata": {},
   "source": [
    "### Cross-Validation"
   ]
  },
  {
   "cell_type": "markdown",
   "metadata": {},
   "source": [
    "Now that we know how we are going to score and measure the success of our model, we need to decide how to split up the data. There are many different ways we can split the data up for training and testing purposes. In this specific senerio, we have a few properties of the dataset that should be considered. First of all, the dataset is perfectly balanced. All the images are the same size, there are exactly 6000 images per class, and there are 10 classes. In addition, there is no need for ordering data because this dataset is not a time-series or any sort of ordered series. Because of these characteristics, I believe it would be acceptable to use any number of different cross-validation methods. In the interest of time, I will be perform 2 splits of the shuffle split to train the model and visual the test data.\n",
    "\n",
    "\n"
   ]
  },
  {
   "cell_type": "code",
   "execution_count": 5,
   "metadata": {},
   "outputs": [],
   "source": [
    "# from https://stackoverflow.com/questions/43547402/how-to-calculate-f1-macro-in-keras# from h \n",
    "\n",
    "from keras import backend as K\n",
    "\n",
    "def f1(y_true, y_pred):\n",
    "    def recall(y_true, y_pred):\n",
    "        \"\"\"Recall metric.\n",
    "\n",
    "        Only computes a batch-wise average of recall.\n",
    "\n",
    "        Computes the recall, a metric for multi-label classification of\n",
    "        how many relevant items are selected.\n",
    "        \"\"\"\n",
    "        true_positives = K.sum(K.round(K.clip(y_true * y_pred, 0, 1)))\n",
    "        possible_positives = K.sum(K.round(K.clip(y_true, 0, 1)))\n",
    "        recall = true_positives / (possible_positives + K.epsilon())\n",
    "        return recall\n",
    "\n",
    "    def precision(y_true, y_pred):\n",
    "        \"\"\"Precision metric.\n",
    "\n",
    "        Only computes a batch-wise average of precision.\n",
    "\n",
    "        Computes the precision, a metric for multi-label classification of\n",
    "        how many selected items are relevant.\n",
    "        \"\"\"\n",
    "        true_positives = K.sum(K.round(K.clip(y_true * y_pred, 0, 1)))\n",
    "        predicted_positives = K.sum(K.round(K.clip(y_pred, 0, 1)))\n",
    "        precision = true_positives / (predicted_positives + K.epsilon())\n",
    "        return precision\n",
    "    precision = precision(y_true, y_pred)\n",
    "    recall = recall(y_true, y_pred)\n",
    "    return 2*((precision*recall)/(precision+recall+K.epsilon()))"
   ]
  },
  {
   "cell_type": "code",
   "execution_count": 6,
   "metadata": {},
   "outputs": [],
   "source": [
    "# pretty confusion matrices\n",
    "def summarize_net(net, X_test, y_test, title_text=''):\n",
    "    plt.figure(figsize=(15,5))\n",
    "    yhat = np.argmax(net.predict(X_test), axis=1)\n",
    "    acc = mt.accuracy_score(y_test,yhat)\n",
    "    f1 = mt.f1_score(y_test,yhat, average=\"macro\")\n",
    "    cm = mt.confusion_matrix(y_test,yhat)\n",
    "    cm = cm/np.sum(cm,axis=1)[:,np.newaxis]\n",
    "    sns.heatmap(cm, annot=True, fmt='.2f')\n",
    "    plt.title(title_text+'F1: {:.4f}'.format(f1)+' Acc: {:.4f}'.format(acc))\n"
   ]
  },
  {
   "cell_type": "code",
   "execution_count": 7,
   "metadata": {},
   "outputs": [
    {
     "ename": "NameError",
     "evalue": "name 'imresize' is not defined",
     "output_type": "error",
     "traceback": [
      "\u001b[0;31m---------------------------------------------------------------------------\u001b[0m",
      "\u001b[0;31mNameError\u001b[0m                                 Traceback (most recent call last)",
      "\u001b[0;32m<ipython-input-7-b686648aaac1>\u001b[0m in \u001b[0;36m<module>\u001b[0;34m()\u001b[0m\n\u001b[0;32m----> 1\u001b[0;31m \u001b[0mX_train_up\u001b[0m \u001b[0;34m=\u001b[0m \u001b[0;34m[\u001b[0m\u001b[0mimresize\u001b[0m\u001b[0;34m(\u001b[0m\u001b[0mx\u001b[0m\u001b[0;34m,\u001b[0m\u001b[0msize\u001b[0m\u001b[0;34m=\u001b[0m\u001b[0;34m(\u001b[0m\u001b[0;36m64\u001b[0m\u001b[0;34m,\u001b[0m\u001b[0;36m64\u001b[0m\u001b[0;34m,\u001b[0m\u001b[0;36m3\u001b[0m\u001b[0;34m)\u001b[0m\u001b[0;34m,\u001b[0m \u001b[0minterp\u001b[0m\u001b[0;34m=\u001b[0m\u001b[0;34m'bicubic'\u001b[0m\u001b[0;34m)\u001b[0m \u001b[0;32mfor\u001b[0m \u001b[0mx\u001b[0m \u001b[0;32min\u001b[0m \u001b[0mX_train\u001b[0m\u001b[0;34m]\u001b[0m\u001b[0;34m\u001b[0m\u001b[0m\n\u001b[0m\u001b[1;32m      2\u001b[0m \u001b[0mX_train_up\u001b[0m \u001b[0;34m=\u001b[0m \u001b[0mnp\u001b[0m\u001b[0;34m.\u001b[0m\u001b[0mstack\u001b[0m\u001b[0;34m(\u001b[0m\u001b[0mX_train_up\u001b[0m\u001b[0;34m,\u001b[0m\u001b[0maxis\u001b[0m\u001b[0;34m=\u001b[0m\u001b[0;36m0\u001b[0m\u001b[0;34m)\u001b[0m\u001b[0;34m\u001b[0m\u001b[0m\n\u001b[1;32m      3\u001b[0m \u001b[0mprint\u001b[0m\u001b[0;34m(\u001b[0m\u001b[0mX_train_up\u001b[0m\u001b[0;34m.\u001b[0m\u001b[0mshape\u001b[0m\u001b[0;34m)\u001b[0m\u001b[0;34m\u001b[0m\u001b[0m\n\u001b[1;32m      4\u001b[0m \u001b[0;34m\u001b[0m\u001b[0m\n\u001b[1;32m      5\u001b[0m \u001b[0mX_test_up\u001b[0m \u001b[0;34m=\u001b[0m \u001b[0;34m[\u001b[0m\u001b[0mimresize\u001b[0m\u001b[0;34m(\u001b[0m\u001b[0mx\u001b[0m\u001b[0;34m,\u001b[0m\u001b[0msize\u001b[0m\u001b[0;34m=\u001b[0m\u001b[0;34m(\u001b[0m\u001b[0;36m64\u001b[0m\u001b[0;34m,\u001b[0m\u001b[0;36m64\u001b[0m\u001b[0;34m,\u001b[0m\u001b[0;36m3\u001b[0m\u001b[0;34m)\u001b[0m\u001b[0;34m,\u001b[0m \u001b[0minterp\u001b[0m\u001b[0;34m=\u001b[0m\u001b[0;34m'bicubic'\u001b[0m\u001b[0;34m)\u001b[0m \u001b[0;32mfor\u001b[0m \u001b[0mx\u001b[0m \u001b[0;32min\u001b[0m \u001b[0mX_test\u001b[0m\u001b[0;34m]\u001b[0m\u001b[0;34m\u001b[0m\u001b[0m\n",
      "\u001b[0;32m<ipython-input-7-b686648aaac1>\u001b[0m in \u001b[0;36m<listcomp>\u001b[0;34m(.0)\u001b[0m\n\u001b[0;32m----> 1\u001b[0;31m \u001b[0mX_train_up\u001b[0m \u001b[0;34m=\u001b[0m \u001b[0;34m[\u001b[0m\u001b[0mimresize\u001b[0m\u001b[0;34m(\u001b[0m\u001b[0mx\u001b[0m\u001b[0;34m,\u001b[0m\u001b[0msize\u001b[0m\u001b[0;34m=\u001b[0m\u001b[0;34m(\u001b[0m\u001b[0;36m64\u001b[0m\u001b[0;34m,\u001b[0m\u001b[0;36m64\u001b[0m\u001b[0;34m,\u001b[0m\u001b[0;36m3\u001b[0m\u001b[0;34m)\u001b[0m\u001b[0;34m,\u001b[0m \u001b[0minterp\u001b[0m\u001b[0;34m=\u001b[0m\u001b[0;34m'bicubic'\u001b[0m\u001b[0;34m)\u001b[0m \u001b[0;32mfor\u001b[0m \u001b[0mx\u001b[0m \u001b[0;32min\u001b[0m \u001b[0mX_train\u001b[0m\u001b[0;34m]\u001b[0m\u001b[0;34m\u001b[0m\u001b[0m\n\u001b[0m\u001b[1;32m      2\u001b[0m \u001b[0mX_train_up\u001b[0m \u001b[0;34m=\u001b[0m \u001b[0mnp\u001b[0m\u001b[0;34m.\u001b[0m\u001b[0mstack\u001b[0m\u001b[0;34m(\u001b[0m\u001b[0mX_train_up\u001b[0m\u001b[0;34m,\u001b[0m\u001b[0maxis\u001b[0m\u001b[0;34m=\u001b[0m\u001b[0;36m0\u001b[0m\u001b[0;34m)\u001b[0m\u001b[0;34m\u001b[0m\u001b[0m\n\u001b[1;32m      3\u001b[0m \u001b[0mprint\u001b[0m\u001b[0;34m(\u001b[0m\u001b[0mX_train_up\u001b[0m\u001b[0;34m.\u001b[0m\u001b[0mshape\u001b[0m\u001b[0;34m)\u001b[0m\u001b[0;34m\u001b[0m\u001b[0m\n\u001b[1;32m      4\u001b[0m \u001b[0;34m\u001b[0m\u001b[0m\n\u001b[1;32m      5\u001b[0m \u001b[0mX_test_up\u001b[0m \u001b[0;34m=\u001b[0m \u001b[0;34m[\u001b[0m\u001b[0mimresize\u001b[0m\u001b[0;34m(\u001b[0m\u001b[0mx\u001b[0m\u001b[0;34m,\u001b[0m\u001b[0msize\u001b[0m\u001b[0;34m=\u001b[0m\u001b[0;34m(\u001b[0m\u001b[0;36m64\u001b[0m\u001b[0;34m,\u001b[0m\u001b[0;36m64\u001b[0m\u001b[0;34m,\u001b[0m\u001b[0;36m3\u001b[0m\u001b[0;34m)\u001b[0m\u001b[0;34m,\u001b[0m \u001b[0minterp\u001b[0m\u001b[0;34m=\u001b[0m\u001b[0;34m'bicubic'\u001b[0m\u001b[0;34m)\u001b[0m \u001b[0;32mfor\u001b[0m \u001b[0mx\u001b[0m \u001b[0;32min\u001b[0m \u001b[0mX_test\u001b[0m\u001b[0;34m]\u001b[0m\u001b[0;34m\u001b[0m\u001b[0m\n",
      "\u001b[0;31mNameError\u001b[0m: name 'imresize' is not defined"
     ]
    }
   ],
   "source": [
    "X_train_up = [imresize(x,size=(64,64,3), interp='bicubic') for x in X_train]\n",
    "X_train_up = np.stack(X_train_up,axis=0)\n",
    "print(X_train_up.shape)\n",
    "\n",
    "X_test_up = [imresize(x,size=(64,64,3), interp='bicubic') for x in X_test]\n",
    "X_test_up = np.stack(X_test_up,axis=0)\n",
    "print(X_test_up.shape)"
   ]
  },
  {
   "cell_type": "markdown",
   "metadata": {},
   "source": [
    "### Lenet"
   ]
  },
  {
   "cell_type": "code",
   "execution_count": 9,
   "metadata": {},
   "outputs": [
    {
     "name": "stdout",
     "output_type": "stream",
     "text": [
      "Epoch 1/25\n",
      " - 32s - loss: 1.7940 - acc: 0.3638 - f1: 0.1600 - val_loss: 1.8596 - val_acc: 0.3736 - val_f1: 0.2806\n",
      "Epoch 2/25\n",
      " - 32s - loss: 1.5287 - acc: 0.4662 - f1: 0.3272 - val_loss: 1.5793 - val_acc: 0.4481 - val_f1: 0.3686\n",
      "Epoch 3/25\n",
      " - 32s - loss: 1.4316 - acc: 0.5032 - f1: 0.3909 - val_loss: 1.4515 - val_acc: 0.4810 - val_f1: 0.4042\n",
      "Epoch 4/25\n",
      " - 32s - loss: 1.3714 - acc: 0.5236 - f1: 0.4277 - val_loss: 1.6486 - val_acc: 0.4324 - val_f1: 0.3657\n",
      "Epoch 5/25\n",
      " - 32s - loss: 1.3213 - acc: 0.5389 - f1: 0.4574 - val_loss: 1.5375 - val_acc: 0.4704 - val_f1: 0.4460\n",
      "Epoch 6/25\n",
      " - 32s - loss: 1.2896 - acc: 0.5507 - f1: 0.4765 - val_loss: 1.4616 - val_acc: 0.4885 - val_f1: 0.4513\n",
      "Epoch 7/25\n",
      " - 32s - loss: 1.2662 - acc: 0.5612 - f1: 0.4925 - val_loss: 1.3682 - val_acc: 0.5166 - val_f1: 0.4493\n",
      "Epoch 8/25\n",
      " - 32s - loss: 1.2428 - acc: 0.5672 - f1: 0.5038 - val_loss: 1.3329 - val_acc: 0.5372 - val_f1: 0.4886\n",
      "Epoch 9/25\n",
      " - 32s - loss: 1.2257 - acc: 0.5761 - f1: 0.5131 - val_loss: 1.2705 - val_acc: 0.5584 - val_f1: 0.5153\n",
      "Epoch 10/25\n",
      " - 32s - loss: 1.2087 - acc: 0.5810 - f1: 0.5247 - val_loss: 1.1934 - val_acc: 0.5851 - val_f1: 0.5429\n",
      "Epoch 11/25\n",
      " - 32s - loss: 1.1919 - acc: 0.5875 - f1: 0.5326 - val_loss: 1.3698 - val_acc: 0.5262 - val_f1: 0.5021\n",
      "Epoch 12/25\n",
      " - 32s - loss: 1.1823 - acc: 0.5909 - f1: 0.5398 - val_loss: 1.3398 - val_acc: 0.5326 - val_f1: 0.5085\n",
      "Epoch 13/25\n",
      " - 32s - loss: 1.1692 - acc: 0.5922 - f1: 0.5438 - val_loss: 1.7780 - val_acc: 0.4323 - val_f1: 0.4175\n",
      "Epoch 14/25\n",
      " - 32s - loss: 1.1571 - acc: 0.5979 - f1: 0.5539 - val_loss: 1.1705 - val_acc: 0.5918 - val_f1: 0.5559\n",
      "Epoch 15/25\n",
      " - 32s - loss: 1.1474 - acc: 0.6025 - f1: 0.5587 - val_loss: 1.3923 - val_acc: 0.5405 - val_f1: 0.5202\n",
      "Epoch 16/25\n",
      " - 32s - loss: 1.1427 - acc: 0.6037 - f1: 0.5622 - val_loss: 1.4816 - val_acc: 0.5202 - val_f1: 0.5034\n",
      "Epoch 17/25\n",
      " - 31s - loss: 1.1316 - acc: 0.6068 - f1: 0.5671 - val_loss: 1.3235 - val_acc: 0.5333 - val_f1: 0.5017\n",
      "Epoch 18/25\n",
      " - 32s - loss: 1.1207 - acc: 0.6097 - f1: 0.5734 - val_loss: 1.3105 - val_acc: 0.5711 - val_f1: 0.5518\n",
      "Epoch 19/25\n",
      " - 31s - loss: 1.1144 - acc: 0.6169 - f1: 0.5791 - val_loss: 1.4359 - val_acc: 0.5405 - val_f1: 0.5203\n",
      "Epoch 20/25\n",
      " - 32s - loss: 1.1123 - acc: 0.6127 - f1: 0.5789 - val_loss: 1.2245 - val_acc: 0.5794 - val_f1: 0.5530\n",
      "Epoch 21/25\n",
      " - 31s - loss: 1.1022 - acc: 0.6160 - f1: 0.5808 - val_loss: 1.2298 - val_acc: 0.5768 - val_f1: 0.5611\n",
      "Epoch 22/25\n",
      " - 32s - loss: 1.1031 - acc: 0.6198 - f1: 0.5832 - val_loss: 1.2616 - val_acc: 0.5790 - val_f1: 0.5596\n",
      "Epoch 23/25\n",
      " - 32s - loss: 1.0940 - acc: 0.6218 - f1: 0.5889 - val_loss: 1.1078 - val_acc: 0.6097 - val_f1: 0.5809\n",
      "Epoch 24/25\n",
      " - 32s - loss: 1.0890 - acc: 0.6243 - f1: 0.5901 - val_loss: 1.1267 - val_acc: 0.6089 - val_f1: 0.5809\n",
      "Epoch 25/25\n",
      " - 31s - loss: 1.0871 - acc: 0.6261 - f1: 0.5940 - val_loss: 1.1525 - val_acc: 0.5960 - val_f1: 0.5849\n",
      "Epoch 1/25\n",
      " - 32s - loss: 1.0878 - acc: 0.6239 - f1: 0.5901 - val_loss: 1.2165 - val_acc: 0.5819 - val_f1: 0.5605\n",
      "Epoch 2/25\n",
      " - 32s - loss: 1.0816 - acc: 0.6248 - f1: 0.5944 - val_loss: 1.5222 - val_acc: 0.4985 - val_f1: 0.4777\n",
      "Epoch 3/25\n",
      " - 32s - loss: 1.0698 - acc: 0.6303 - f1: 0.5996 - val_loss: 1.3648 - val_acc: 0.5619 - val_f1: 0.5479\n",
      "Epoch 4/25\n",
      " - 32s - loss: 1.0614 - acc: 0.6318 - f1: 0.6017 - val_loss: 1.2724 - val_acc: 0.5654 - val_f1: 0.5482\n",
      "Epoch 5/25\n",
      " - 31s - loss: 1.0574 - acc: 0.6371 - f1: 0.6063 - val_loss: 1.2192 - val_acc: 0.5822 - val_f1: 0.5661\n",
      "Epoch 6/25\n",
      " - 31s - loss: 1.0565 - acc: 0.6335 - f1: 0.6058 - val_loss: 1.1879 - val_acc: 0.5937 - val_f1: 0.5742\n",
      "Epoch 7/25\n",
      " - 31s - loss: 1.0488 - acc: 0.6377 - f1: 0.6102 - val_loss: 1.1639 - val_acc: 0.5957 - val_f1: 0.5775\n",
      "Epoch 8/25\n",
      " - 31s - loss: 1.0547 - acc: 0.6357 - f1: 0.6088 - val_loss: 1.2111 - val_acc: 0.5865 - val_f1: 0.5534\n",
      "Epoch 9/25\n",
      " - 31s - loss: 1.0406 - acc: 0.6370 - f1: 0.6097 - val_loss: 1.0912 - val_acc: 0.6235 - val_f1: 0.6063\n",
      "Epoch 10/25\n",
      " - 31s - loss: 1.0354 - acc: 0.6418 - f1: 0.6157 - val_loss: 1.7687 - val_acc: 0.4943 - val_f1: 0.4919\n",
      "Epoch 11/25\n",
      " - 31s - loss: 1.0339 - acc: 0.6449 - f1: 0.6141 - val_loss: 1.1494 - val_acc: 0.5988 - val_f1: 0.5801\n",
      "Epoch 12/25\n",
      " - 31s - loss: 1.0339 - acc: 0.6427 - f1: 0.6171 - val_loss: 1.7241 - val_acc: 0.4945 - val_f1: 0.4874\n",
      "Epoch 13/25\n",
      " - 31s - loss: 1.0292 - acc: 0.6443 - f1: 0.6178 - val_loss: 1.1772 - val_acc: 0.6053 - val_f1: 0.5899\n",
      "Epoch 14/25\n",
      " - 31s - loss: 1.0245 - acc: 0.6476 - f1: 0.6219 - val_loss: 1.0503 - val_acc: 0.6404 - val_f1: 0.6269\n",
      "Epoch 15/25\n",
      " - 31s - loss: 1.0204 - acc: 0.6453 - f1: 0.6211 - val_loss: 1.0832 - val_acc: 0.6235 - val_f1: 0.6023\n",
      "Epoch 16/25\n",
      " - 31s - loss: 1.0175 - acc: 0.6488 - f1: 0.6217 - val_loss: 1.0747 - val_acc: 0.6311 - val_f1: 0.6100\n",
      "Epoch 17/25\n",
      " - 31s - loss: 1.0103 - acc: 0.6510 - f1: 0.6267 - val_loss: 1.2277 - val_acc: 0.5919 - val_f1: 0.5822\n",
      "Epoch 18/25\n",
      " - 31s - loss: 1.0115 - acc: 0.6513 - f1: 0.6282 - val_loss: 1.1342 - val_acc: 0.6137 - val_f1: 0.5920\n",
      "Epoch 19/25\n",
      " - 31s - loss: 1.0061 - acc: 0.6516 - f1: 0.6260 - val_loss: 1.1195 - val_acc: 0.6155 - val_f1: 0.5970\n",
      "Epoch 20/25\n",
      " - 31s - loss: 1.0061 - acc: 0.6515 - f1: 0.6302 - val_loss: 1.2382 - val_acc: 0.5787 - val_f1: 0.5687\n",
      "Epoch 21/25\n",
      " - 31s - loss: 1.0017 - acc: 0.6535 - f1: 0.6296 - val_loss: 1.5450 - val_acc: 0.5275 - val_f1: 0.5174\n",
      "Epoch 22/25\n",
      " - 31s - loss: 0.9973 - acc: 0.6552 - f1: 0.6323 - val_loss: 1.2634 - val_acc: 0.5771 - val_f1: 0.5601\n",
      "Epoch 23/25\n",
      " - 31s - loss: 0.9994 - acc: 0.6556 - f1: 0.6309 - val_loss: 1.2107 - val_acc: 0.5825 - val_f1: 0.5656\n",
      "Epoch 24/25\n",
      " - 31s - loss: 0.9928 - acc: 0.6588 - f1: 0.6346 - val_loss: 1.2985 - val_acc: 0.5569 - val_f1: 0.5353\n",
      "CPU times: user 4h 6min 52s, sys: 1h 28min 46s, total: 5h 35min 39s\n",
      "Wall time: 25min 44s\n"
     ]
    }
   ],
   "source": [
    "%%time\n",
    "\n",
    "l2_lambda = 0.0001\n",
    "# build model\n",
    "lenet = Sequential()\n",
    "lenet.add(Conv2D(filters=6,kernel_size=(5,5),\n",
    "               input_shape = (32,32,3), \n",
    "               padding='valid', \n",
    "               kernel_initializer='he_uniform', \n",
    "               kernel_regularizer=l2(l2_lambda)))\n",
    "lenet.add(MaxPooling2D(pool_size=(2, 2), data_format=\"channels_last\"))\n",
    "lenet.add(BatchNormalization())\n",
    "lenet.add(Activation(\"sigmoid\"))\n",
    "lenet.add(Conv2D(filters=16,kernel_size=(5,5), \n",
    "               padding='valid', \n",
    "               kernel_initializer='he_uniform', \n",
    "               kernel_regularizer=l2(l2_lambda)))\n",
    "lenet.add(MaxPooling2D(pool_size=(2, 2), data_format=\"channels_last\"))\n",
    "lenet.add(BatchNormalization())\n",
    "lenet.add(Activation(\"sigmoid\"))\n",
    "#lenet.add(Dropout(0.5))\n",
    "lenet.add(Conv2D(filters=120,kernel_size=(1,1), \n",
    "               padding='valid', \n",
    "               kernel_initializer='he_uniform', \n",
    "               kernel_regularizer=l2(l2_lambda)))\n",
    "\n",
    "lenet.add(Flatten())\n",
    "lenet.add(Dense(84))\n",
    "lenet.add(Activation(\"sigmoid\"))\n",
    "lenet.add(Dense(NUM_CLASSES))\n",
    "lenet.add(Activation('softmax'))\n",
    "lenet.compile(loss='categorical_crossentropy', # 'categorical_crossentropy' 'mean_squared_error'\n",
    "                optimizer='rmsprop', # 'adadelta' 'rmsprop'\n",
    "                metrics=['accuracy', f1])\n",
    "\n",
    "# the flow method yields batches of images indefinitely, with the given transformations\n",
    "cv = StratifiedShuffleSplit(n_splits=2, test_size=.2)\n",
    "for train_index, test_index in cv.split(X_train, Y_train_ohe):\n",
    "    lenet.fit_generator(datagen.flow(X_train[train_index], Y_train_ohe[train_index], batch_size=128), \n",
    "      steps_per_epoch=int(len(X_train[train_index])/128), # how many generators to go through per epoch\n",
    "      epochs=25, verbose=2,\n",
    "      validation_data=(X_train[test_index],Y_train_ohe[test_index]),\n",
    "      callbacks=[EarlyStopping(monitor='val_loss', patience=10)]\n",
    "     )"
   ]
  },
  {
   "cell_type": "markdown",
   "metadata": {},
   "source": [
    "temp"
   ]
  },
  {
   "cell_type": "code",
   "execution_count": 10,
   "metadata": {},
   "outputs": [
    {
     "data": {
      "image/png": "[encoded data removed]",
      "text/plain": [
       "<Figure size 1080x360 with 2 Axes>"
      ]
     },
     "metadata": {},
     "output_type": "display_data"
    }
   ],
   "source": [
    "summarize_net(lenet, X_test, Y_test, title_text='Using LeNet:')"
   ]
  },
  {
   "cell_type": "markdown",
   "metadata": {},
   "source": [
    "temp"
   ]
  },
  {
   "cell_type": "code",
   "execution_count": 11,
   "metadata": {},
   "outputs": [
    {
     "data": {
      "image/png": "[encoded data removed]",
      "text/plain": [
       "<Figure size 432x288 with 6 Axes>"
      ]
     },
     "metadata": {},
     "output_type": "display_data"
    },
    {
     "data": {
      "image/png": "[encoded data removed]",
      "text/plain": [
       "<Figure size 432x288 with 15 Axes>"
      ]
     },
     "metadata": {},
     "output_type": "display_data"
    },
    {
     "data": {
      "image/png": "[encoded data removed]",
      "text/plain": [
       "<Figure size 432x288 with 15 Axes>"
      ]
     },
     "metadata": {},
     "output_type": "display_data"
    }
   ],
   "source": [
    "max_plots = 15\n",
    "for layer in lenet.layers:\n",
    "    if type(layer) == keras.layers.convolutional.Conv2D:\n",
    "        weights = layer.get_weights()[0]\n",
    "        for i in range(min(weights.shape[-1], max_plots)):\n",
    "            plt.subplot(1, min(weights.shape[-1], max_plots), i+1)\n",
    "            plt.imshow(weights[:,:,0,i])\n",
    "            plt.axis('off')\n",
    "        plt.show()"
   ]
  },
  {
   "cell_type": "markdown",
   "metadata": {},
   "source": [
    "### Simple CNN Model"
   ]
  },
  {
   "cell_type": "markdown",
   "metadata": {},
   "source": [
    "temp"
   ]
  },
  {
   "cell_type": "code",
   "execution_count": 12,
   "metadata": {},
   "outputs": [
    {
     "name": "stdout",
     "output_type": "stream",
     "text": [
      "_________________________________________________________________\n",
      "Layer (type)                 Output Shape              Param #   \n",
      "=================================================================\n",
      "conv2d_7 (Conv2D)            (None, 32, 32, 32)        896       \n",
      "_________________________________________________________________\n",
      "dropout_1 (Dropout)          (None, 32, 32, 32)        0         \n",
      "_________________________________________________________________\n",
      "conv2d_8 (Conv2D)            (None, 32, 32, 32)        9248      \n",
      "_________________________________________________________________\n",
      "max_pooling2d_5 (MaxPooling2 (None, 32, 16, 16)        0         \n",
      "_________________________________________________________________\n",
      "conv2d_9 (Conv2D)            (None, 64, 16, 16)        18496     \n",
      "_________________________________________________________________\n",
      "dropout_2 (Dropout)          (None, 64, 16, 16)        0         \n",
      "_________________________________________________________________\n",
      "conv2d_10 (Conv2D)           (None, 64, 16, 16)        36928     \n",
      "_________________________________________________________________\n",
      "max_pooling2d_6 (MaxPooling2 (None, 64, 8, 8)          0         \n",
      "_________________________________________________________________\n",
      "conv2d_11 (Conv2D)           (None, 128, 8, 8)         73856     \n",
      "_________________________________________________________________\n",
      "dropout_3 (Dropout)          (None, 128, 8, 8)         0         \n",
      "_________________________________________________________________\n",
      "conv2d_12 (Conv2D)           (None, 128, 8, 8)         147584    \n",
      "_________________________________________________________________\n",
      "max_pooling2d_7 (MaxPooling2 (None, 128, 4, 4)         0         \n",
      "_________________________________________________________________\n",
      "flatten_3 (Flatten)          (None, 2048)              0         \n",
      "_________________________________________________________________\n",
      "dropout_4 (Dropout)          (None, 2048)              0         \n",
      "_________________________________________________________________\n",
      "dense_5 (Dense)              (None, 1024)              2098176   \n",
      "_________________________________________________________________\n",
      "dropout_5 (Dropout)          (None, 1024)              0         \n",
      "_________________________________________________________________\n",
      "dense_6 (Dense)              (None, 512)               524800    \n",
      "_________________________________________________________________\n",
      "dropout_6 (Dropout)          (None, 512)               0         \n",
      "_________________________________________________________________\n",
      "dense_7 (Dense)              (None, 10)                5130      \n",
      "=================================================================\n",
      "Total params: 2,915,114\n",
      "Trainable params: 2,915,114\n",
      "Non-trainable params: 0\n",
      "_________________________________________________________________\n",
      "None\n"
     ]
    }
   ],
   "source": [
    "# Simple CNN model for CIFAR-10\n",
    "\n",
    "K.set_image_dim_ordering('th')\n",
    "\n",
    "# Create the model\n",
    "model = Sequential()\n",
    "model.add(Conv2D(32, (3, 3), input_shape=(3, 32, 32), activation='relu', padding='same'))\n",
    "model.add(Dropout(0.2))\n",
    "model.add(Conv2D(32, (3, 3), activation='relu', padding='same'))\n",
    "model.add(MaxPooling2D(pool_size=(2, 2)))\n",
    "model.add(Conv2D(64, (3, 3), activation='relu', padding='same'))\n",
    "model.add(Dropout(0.2))\n",
    "model.add(Conv2D(64, (3, 3), activation='relu', padding='same'))\n",
    "model.add(MaxPooling2D(pool_size=(2, 2)))\n",
    "model.add(Conv2D(128, (3, 3), activation='relu', padding='same'))\n",
    "model.add(Dropout(0.2))\n",
    "model.add(Conv2D(128, (3, 3), activation='relu', padding='same'))\n",
    "model.add(MaxPooling2D(pool_size=(2, 2)))\n",
    "model.add(Flatten())\n",
    "model.add(Dropout(0.2))\n",
    "model.add(Dense(1024, activation='relu', kernel_constraint=maxnorm(3)))\n",
    "model.add(Dropout(0.2))\n",
    "model.add(Dense(512, activation='relu', kernel_constraint=maxnorm(3)))\n",
    "model.add(Dropout(0.2))\n",
    "model.add(Dense(NUM_CLASSES, activation='softmax'))\n",
    "# Compile model\n",
    "epochs = 25\n",
    "lrate = 0.01\n",
    "decay = lrate/epochs\n",
    "sgd = SGD(lr=lrate, momentum=0.9, decay=decay, nesterov=False)\n",
    "model.compile(loss='categorical_crossentropy', optimizer=sgd, metrics=['accuracy', f1])\n",
    "print(model.summary())"
   ]
  },
  {
   "cell_type": "markdown",
   "metadata": {},
   "source": [
    "TEMP"
   ]
  },
  {
   "cell_type": "code",
   "execution_count": 13,
   "metadata": {},
   "outputs": [
    {
     "name": "stdout",
     "output_type": "stream",
     "text": [
      "WARNING:tensorflow:Variable *= will be deprecated. Use variable.assign_mul if you want assignment to the variable value or 'x = x * y' if you want a new python Tensor object.\n",
      "Train on 40000 samples, validate on 10000 samples\n",
      "Epoch 1/25\n",
      "40000/40000 [==============================] - 117s 3ms/step - loss: 2.0167 - acc: 0.2499 - f1: 0.0487 - val_loss: 1.8194 - val_acc: 0.3385 - val_f1: 0.0889\n",
      "Epoch 2/25\n",
      "40000/40000 [==============================] - 116s 3ms/step - loss: 1.6048 - acc: 0.4133 - f1: 0.2496 - val_loss: 1.4804 - val_acc: 0.4671 - val_f1: 0.2924\n",
      "Epoch 3/25\n",
      "40000/40000 [==============================] - 115s 3ms/step - loss: 1.4179 - acc: 0.4860 - f1: 0.3811 - val_loss: 1.3263 - val_acc: 0.5159 - val_f1: 0.4087\n",
      "Epoch 4/25\n",
      "40000/40000 [==============================] - 114s 3ms/step - loss: 1.2904 - acc: 0.5319 - f1: 0.4575 - val_loss: 1.3313 - val_acc: 0.5329 - val_f1: 0.4657\n",
      "Epoch 5/25\n",
      "40000/40000 [==============================] - 113s 3ms/step - loss: 1.1900 - acc: 0.5695 - f1: 0.5154 - val_loss: 1.1360 - val_acc: 0.5853 - val_f1: 0.5264\n",
      "Epoch 6/25\n",
      "40000/40000 [==============================] - 113s 3ms/step - loss: 1.1122 - acc: 0.5985 - f1: 0.5566 - val_loss: 1.0527 - val_acc: 0.6265 - val_f1: 0.5810\n",
      "Epoch 7/25\n",
      "40000/40000 [==============================] - 113s 3ms/step - loss: 1.0387 - acc: 0.6265 - f1: 0.5925 - val_loss: 0.9898 - val_acc: 0.6512 - val_f1: 0.6037\n",
      "Epoch 8/25\n",
      "40000/40000 [==============================] - 113s 3ms/step - loss: 0.9746 - acc: 0.6527 - f1: 0.6253 - val_loss: 0.9785 - val_acc: 0.6540 - val_f1: 0.6291\n",
      "Epoch 9/25\n",
      "40000/40000 [==============================] - 112s 3ms/step - loss: 0.9161 - acc: 0.6734 - f1: 0.6518 - val_loss: 0.8960 - val_acc: 0.6804 - val_f1: 0.6624\n",
      "Epoch 10/25\n",
      "40000/40000 [==============================] - 113s 3ms/step - loss: 0.8682 - acc: 0.6911 - f1: 0.6744 - val_loss: 0.8674 - val_acc: 0.6905 - val_f1: 0.6714\n",
      "Epoch 11/25\n",
      "40000/40000 [==============================] - 113s 3ms/step - loss: 0.8191 - acc: 0.7096 - f1: 0.6939 - val_loss: 0.8401 - val_acc: 0.7006 - val_f1: 0.6871\n",
      "Epoch 12/25\n",
      "40000/40000 [==============================] - 114s 3ms/step - loss: 0.7770 - acc: 0.7253 - f1: 0.7136 - val_loss: 0.7874 - val_acc: 0.7247 - val_f1: 0.7082\n",
      "Epoch 13/25\n",
      "40000/40000 [==============================] - 114s 3ms/step - loss: 0.7352 - acc: 0.7378 - f1: 0.7286 - val_loss: 0.7847 - val_acc: 0.7241 - val_f1: 0.7148\n",
      "Epoch 14/25\n",
      "40000/40000 [==============================] - 114s 3ms/step - loss: 0.7042 - acc: 0.7507 - f1: 0.7421 - val_loss: 0.7418 - val_acc: 0.7408 - val_f1: 0.7321\n",
      "Epoch 15/25\n",
      "40000/40000 [==============================] - 114s 3ms/step - loss: 0.6675 - acc: 0.7625 - f1: 0.7562 - val_loss: 0.7327 - val_acc: 0.7438 - val_f1: 0.7342\n",
      "Epoch 16/25\n",
      "40000/40000 [==============================] - 113s 3ms/step - loss: 0.6415 - acc: 0.7699 - f1: 0.7655 - val_loss: 0.7211 - val_acc: 0.7494 - val_f1: 0.7468\n",
      "Epoch 17/25\n",
      "40000/40000 [==============================] - 113s 3ms/step - loss: 0.6204 - acc: 0.7815 - f1: 0.7753 - val_loss: 0.7110 - val_acc: 0.7540 - val_f1: 0.7511\n",
      "Epoch 18/25\n",
      "40000/40000 [==============================] - 113s 3ms/step - loss: 0.5994 - acc: 0.7866 - f1: 0.7827 - val_loss: 0.6974 - val_acc: 0.7565 - val_f1: 0.7544\n",
      "Epoch 19/25\n",
      "40000/40000 [==============================] - 113s 3ms/step - loss: 0.5750 - acc: 0.7954 - f1: 0.7920 - val_loss: 0.7019 - val_acc: 0.7555 - val_f1: 0.7528\n",
      "Epoch 20/25\n",
      "40000/40000 [==============================] - 113s 3ms/step - loss: 0.5488 - acc: 0.8057 - f1: 0.8027 - val_loss: 0.6971 - val_acc: 0.7625 - val_f1: 0.7579\n",
      "Epoch 21/25\n",
      "40000/40000 [==============================] - 113s 3ms/step - loss: 0.5348 - acc: 0.8105 - f1: 0.8064 - val_loss: 0.6789 - val_acc: 0.7656 - val_f1: 0.7667\n",
      "Epoch 22/25\n",
      "40000/40000 [==============================] - 112s 3ms/step - loss: 0.5106 - acc: 0.8173 - f1: 0.8150 - val_loss: 0.6875 - val_acc: 0.7622 - val_f1: 0.7635\n",
      "Epoch 23/25\n",
      "40000/40000 [==============================] - 112s 3ms/step - loss: 0.4911 - acc: 0.8253 - f1: 0.8233 - val_loss: 0.6776 - val_acc: 0.7703 - val_f1: 0.7690\n",
      "Epoch 24/25\n",
      "40000/40000 [==============================] - 111s 3ms/step - loss: 0.4746 - acc: 0.8297 - f1: 0.8284 - val_loss: 0.6715 - val_acc: 0.7693 - val_f1: 0.7726\n",
      "Epoch 25/25\n",
      "40000/40000 [==============================] - 112s 3ms/step - loss: 0.4604 - acc: 0.8347 - f1: 0.8332 - val_loss: 0.6586 - val_acc: 0.7768 - val_f1: 0.7771\n",
      "Accuracy: 77.68%\n",
      "Train on 40000 samples, validate on 10000 samples\n",
      "Epoch 1/25\n",
      "40000/40000 [==============================] - 113s 3ms/step - loss: 0.5253 - acc: 0.8163 - f1: 0.8154 - val_loss: 0.3760 - val_acc: 0.8834 - val_f1: 0.8769\n",
      "Epoch 2/25\n",
      "40000/40000 [==============================] - 113s 3ms/step - loss: 0.5030 - acc: 0.8234 - f1: 0.8224 - val_loss: 0.3691 - val_acc: 0.8838 - val_f1: 0.8783\n",
      "Epoch 3/25\n",
      "40000/40000 [==============================] - 113s 3ms/step - loss: 0.4821 - acc: 0.8323 - f1: 0.8293 - val_loss: 0.3718 - val_acc: 0.8792 - val_f1: 0.8752\n",
      "Epoch 4/25\n",
      "40000/40000 [==============================] - 112s 3ms/step - loss: 0.4656 - acc: 0.8370 - f1: 0.8352 - val_loss: 0.3722 - val_acc: 0.8787 - val_f1: 0.8754\n",
      "Epoch 5/25\n",
      "40000/40000 [==============================] - 112s 3ms/step - loss: 0.4491 - acc: 0.8425 - f1: 0.8415 - val_loss: 0.3609 - val_acc: 0.8814 - val_f1: 0.8782\n",
      "Epoch 6/25\n",
      "40000/40000 [==============================] - 113s 3ms/step - loss: 0.4346 - acc: 0.8470 - f1: 0.8456 - val_loss: 0.3731 - val_acc: 0.8744 - val_f1: 0.8740\n",
      "Epoch 7/25\n",
      "40000/40000 [==============================] - 113s 3ms/step - loss: 0.4215 - acc: 0.8502 - f1: 0.8498 - val_loss: 0.3744 - val_acc: 0.8731 - val_f1: 0.8740\n",
      "Epoch 8/25\n",
      "40000/40000 [==============================] - 112s 3ms/step - loss: 0.4063 - acc: 0.8564 - f1: 0.8560 - val_loss: 0.3702 - val_acc: 0.8776 - val_f1: 0.8755\n",
      "Epoch 9/25\n",
      "40000/40000 [==============================] - 113s 3ms/step - loss: 0.3920 - acc: 0.8594 - f1: 0.8589 - val_loss: 0.3786 - val_acc: 0.8728 - val_f1: 0.8719\n",
      "Epoch 10/25\n",
      "40000/40000 [==============================] - 112s 3ms/step - loss: 0.3795 - acc: 0.8652 - f1: 0.8654 - val_loss: 0.3646 - val_acc: 0.8760 - val_f1: 0.8737\n",
      "Epoch 11/25\n",
      "40000/40000 [==============================] - 112s 3ms/step - loss: 0.3729 - acc: 0.8668 - f1: 0.8666 - val_loss: 0.3680 - val_acc: 0.8745 - val_f1: 0.8741\n",
      "Epoch 12/25\n",
      "40000/40000 [==============================] - 112s 3ms/step - loss: 0.3619 - acc: 0.8710 - f1: 0.8708 - val_loss: 0.3684 - val_acc: 0.8733 - val_f1: 0.8737\n",
      "Epoch 13/25\n",
      "40000/40000 [==============================] - 112s 3ms/step - loss: 0.3508 - acc: 0.8756 - f1: 0.8747 - val_loss: 0.3719 - val_acc: 0.8713 - val_f1: 0.8713\n",
      "Epoch 14/25\n",
      "40000/40000 [==============================] - 112s 3ms/step - loss: 0.3411 - acc: 0.8802 - f1: 0.8796 - val_loss: 0.3620 - val_acc: 0.8760 - val_f1: 0.8767\n",
      "Epoch 15/25\n",
      "40000/40000 [==============================] - 112s 3ms/step - loss: 0.3296 - acc: 0.8825 - f1: 0.8811 - val_loss: 0.3785 - val_acc: 0.8699 - val_f1: 0.8712\n",
      "Epoch 16/25\n",
      "40000/40000 [==============================] - 112s 3ms/step - loss: 0.3228 - acc: 0.8849 - f1: 0.8852 - val_loss: 0.3764 - val_acc: 0.8692 - val_f1: 0.8698\n",
      "Epoch 17/25\n",
      "40000/40000 [==============================] - 113s 3ms/step - loss: 0.3123 - acc: 0.8880 - f1: 0.8886 - val_loss: 0.3802 - val_acc: 0.8693 - val_f1: 0.8720\n",
      "Epoch 18/25\n",
      "40000/40000 [==============================] - 112s 3ms/step - loss: 0.3053 - acc: 0.8904 - f1: 0.8897 - val_loss: 0.3747 - val_acc: 0.8718 - val_f1: 0.8709\n",
      "Epoch 19/25\n",
      "40000/40000 [==============================] - 112s 3ms/step - loss: 0.2956 - acc: 0.8937 - f1: 0.8940 - val_loss: 0.3789 - val_acc: 0.8689 - val_f1: 0.8711\n",
      "Epoch 20/25\n",
      "40000/40000 [==============================] - 113s 3ms/step - loss: 0.2903 - acc: 0.8957 - f1: 0.8959 - val_loss: 0.3793 - val_acc: 0.8698 - val_f1: 0.8711\n",
      "Epoch 21/25\n",
      "40000/40000 [==============================] - 113s 3ms/step - loss: 0.2812 - acc: 0.9004 - f1: 0.8999 - val_loss: 0.3828 - val_acc: 0.8687 - val_f1: 0.8706\n",
      "Epoch 22/25\n",
      "40000/40000 [==============================] - 112s 3ms/step - loss: 0.2775 - acc: 0.9018 - f1: 0.9015 - val_loss: 0.3885 - val_acc: 0.8683 - val_f1: 0.8678\n"
     ]
    },
    {
     "name": "stdout",
     "output_type": "stream",
     "text": [
      "Epoch 23/25\n",
      "40000/40000 [==============================] - 112s 3ms/step - loss: 0.2664 - acc: 0.9039 - f1: 0.9038 - val_loss: 0.3978 - val_acc: 0.8667 - val_f1: 0.8679\n",
      "Epoch 24/25\n",
      "40000/40000 [==============================] - 112s 3ms/step - loss: 0.2584 - acc: 0.9066 - f1: 0.9070 - val_loss: 0.3766 - val_acc: 0.8730 - val_f1: 0.8743\n",
      "Epoch 25/25\n",
      "40000/40000 [==============================] - 112s 3ms/step - loss: 0.2586 - acc: 0.9072 - f1: 0.9074 - val_loss: 0.3891 - val_acc: 0.8689 - val_f1: 0.8705\n",
      "Accuracy: 86.89%\n"
     ]
    }
   ],
   "source": [
    "seed = 7\n",
    "np.random.seed(seed)\n",
    "\n",
    "# load data\n",
    "(X_train, y_train), (X_test, y_test) = cifar10.load_data()\n",
    "\n",
    "X_train = X_train.astype('float32')\n",
    "X_test = X_test.astype('float32')\n",
    "X_train = X_train / 255.0\n",
    "X_test = X_test / 255.0\n",
    "\n",
    "y_train = np_utils.to_categorical(y_train)\n",
    "y_test = np_utils.to_categorical(y_test)\n",
    "num_classes = y_test.shape[1]\n",
    "\n",
    "cv = StratifiedShuffleSplit(n_splits=2, test_size=.2)\n",
    "for train_index, test_index in cv.split(X_train, y_train):\n",
    "    model.fit(X_train[train_index], y_train[train_index], validation_data=(X_train[test_index], y_train[test_index]), epochs=epochs, batch_size=64)\n",
    "    # Final evaluation of the model\n",
    "    scores = model.evaluate(X_train[test_index], y_train[test_index], verbose=0)\n",
    "    print(\"Accuracy: %.2f%%\" % (scores[1]*100))"
   ]
  },
  {
   "cell_type": "markdown",
   "metadata": {},
   "source": [
    "TEMP"
   ]
  },
  {
   "cell_type": "code",
   "execution_count": 14,
   "metadata": {},
   "outputs": [
    {
     "data": {
      "image/png": "[encoded data removed]",
      "text/plain": [
       "<Figure size 1080x360 with 2 Axes>"
      ]
     },
     "metadata": {},
     "output_type": "display_data"
    }
   ],
   "source": [
    "(X_train, y_train), (X_test, y_test) = cifar10.load_data()\n",
    "\n",
    "summarize_net(model, X_test, y_test, title_text='Using Basic CNN')"
   ]
  },
  {
   "cell_type": "code",
   "execution_count": 15,
   "metadata": {},
   "outputs": [
    {
     "data": {
      "image/png": "[encoded data removed]",
      "text/plain": [
       "<Figure size 432x288 with 15 Axes>"
      ]
     },
     "metadata": {},
     "output_type": "display_data"
    },
    {
     "data": {
      "image/png": "[encoded data removed]",
      "text/plain": [
       "<Figure size 432x288 with 15 Axes>"
      ]
     },
     "metadata": {},
     "output_type": "display_data"
    },
    {
     "data": {
      "image/png": "[encoded data removed]",
      "text/plain": [
       "<Figure size 432x288 with 15 Axes>"
      ]
     },
     "metadata": {},
     "output_type": "display_data"
    },
    {
     "data": {
      "image/png": "[encoded data removed]",
      "text/plain": [
       "<Figure size 432x288 with 15 Axes>"
      ]
     },
     "metadata": {},
     "output_type": "display_data"
    },
    {
     "data": {
      "image/png": "[encoded data removed]",
      "text/plain": [
       "<Figure size 432x288 with 15 Axes>"
      ]
     },
     "metadata": {},
     "output_type": "display_data"
    },
    {
     "data": {
      "image/png": "[encoded data removed]",
      "text/plain": [
       "<Figure size 432x288 with 15 Axes>"
      ]
     },
     "metadata": {},
     "output_type": "display_data"
    }
   ],
   "source": [
    "max_plots = 15\n",
    "for layer in model.layers:\n",
    "    if type(layer) == keras.layers.convolutional.Conv2D:\n",
    "        weights = layer.get_weights()[0]\n",
    "        for i in range(min(weights.shape[-1], max_plots)):\n",
    "            plt.subplot(1, min(weights.shape[-1], max_plots), i+1)\n",
    "            plt.imshow(weights[:,:,0,i])\n",
    "            plt.axis('off')\n",
    "        plt.show()"
   ]
  },
  {
   "cell_type": "markdown",
   "metadata": {},
   "source": [
    "## MLP"
   ]
  },
  {
   "cell_type": "markdown",
   "metadata": {},
   "source": [
    "TEMP"
   ]
  },
  {
   "cell_type": "code",
   "execution_count": 16,
   "metadata": {},
   "outputs": [
    {
     "name": "stdout",
     "output_type": "stream",
     "text": [
      "Labels:\n",
      "0 --> airplane\n",
      "1 --> automobile\n",
      "2 --> bird\n",
      "3 --> cat\n",
      "4 --> deer\n",
      "5 --> dog\n",
      "6 --> frog\n",
      "7 --> horse\n",
      "8 --> ship\n",
      "9 --> truck\n",
      "\n",
      "n_samples: 60000\n",
      "n_features: 1024\n",
      "n_classes: 10\n",
      "Original Image Size: 32 x 32\n"
     ]
    }
   ],
   "source": [
    "###\n",
    "# Download dataset from http://www.cs.toronto.edu/~kriz/cifar-10-python.tar.gz\n",
    "# save all files to ./data/\n",
    "###\n",
    "\n",
    "def get_images(): # stuck this in a function to clean up memory \n",
    "    dics = []\n",
    "    for root, directory, files in os.walk('../data/cifar-10-batches-py'):\n",
    "        for f in files:\n",
    "            if 'data_batch' in f or 'test_batch' in f:\n",
    "                with open(root+'/'+f, 'rb') as fo:\n",
    "                    dics.append(pickle.load(fo, encoding='latin1'))\n",
    "\n",
    "    img_color = []\n",
    "    img_labels = []\n",
    "    for dic in dics:\n",
    "        for i in range(len(dic['data'])):\n",
    "            img_color.append(dic['data'][i]) # 1D img (1024 R, 1024 G, 1024 B)\n",
    "            img_labels.append(dic['labels'][i]) # int representing the label\n",
    "\n",
    "    img_color = np.array(img_color)\n",
    "    img_labels = np.array(img_labels)\n",
    "\n",
    "    # grab the mapping between label names and IDs\n",
    "    print('Labels:')\n",
    "    labels = {}\n",
    "    with open('../data/cifar-10-batches-py/batches.meta', 'rb') as fo:\n",
    "        labels_tmp = pickle.load(fo, encoding='latin1')\n",
    "        for i in range(len(labels_tmp['label_names'])):\n",
    "            labels[i] = labels_tmp['label_names'][i]\n",
    "            print(i, \"-->\", labels_tmp['label_names'][i])\n",
    "    print()\n",
    "\n",
    "    img_label_names = np.array([labels[x] for x in img_labels])\n",
    "\n",
    "    def toGrayscale(img):\n",
    "        r, g, b = img[:1024], img[1024:2048], img[2048:]\n",
    "        gray = 0.2989 * r + 0.5870 * g + 0.1140 * b\n",
    "        return gray\n",
    "\n",
    "    img_gray = np.array([toGrayscale(x) for x in img_color])\n",
    "    \n",
    "    return (img_color, img_gray, img_labels, img_label_names)\n",
    "\n",
    "img_color, img_gray, img_labels, img_label_names = get_images()\n",
    "img_gray = img_gray\n",
    "img_labels = img_labels\n",
    "print(\"n_samples: {}\".format(len(img_gray)))\n",
    "print(\"n_features: {}\".format(len(img_gray[0])))\n",
    "print(\"n_classes: {}\".format(len(np.unique(img_labels))))\n",
    "print(\"Original Image Size: {} x {}\".format(32, 32))"
   ]
  },
  {
   "cell_type": "code",
   "execution_count": 45,
   "metadata": {},
   "outputs": [
    {
     "ename": "NameError",
     "evalue": "name 'daisy' is not defined",
     "output_type": "error",
     "traceback": [
      "\u001b[0;31m---------------------------------------------------------------------------\u001b[0m",
      "\u001b[0;31mNameError\u001b[0m                                 Traceback (most recent call last)",
      "\u001b[0;32m<ipython-input-45-c8fe40142887>\u001b[0m in \u001b[0;36m<module>\u001b[0;34m()\u001b[0m\n\u001b[1;32m      6\u001b[0m         \u001b[0mrings\u001b[0m\u001b[0;34m=\u001b[0m\u001b[0;36m2\u001b[0m\u001b[0;34m,\u001b[0m\u001b[0;34m\u001b[0m\u001b[0m\n\u001b[1;32m      7\u001b[0m         \u001b[0mhistograms\u001b[0m\u001b[0;34m=\u001b[0m\u001b[0;36m8\u001b[0m\u001b[0;34m,\u001b[0m\u001b[0;34m\u001b[0m\u001b[0m\n\u001b[0;32m----> 8\u001b[0;31m         orientations=5))) for x in img_gray])\n\u001b[0m",
      "\u001b[0;32m<ipython-input-45-c8fe40142887>\u001b[0m in \u001b[0;36m<listcomp>\u001b[0;34m(.0)\u001b[0m\n\u001b[1;32m      6\u001b[0m         \u001b[0mrings\u001b[0m\u001b[0;34m=\u001b[0m\u001b[0;36m2\u001b[0m\u001b[0;34m,\u001b[0m\u001b[0;34m\u001b[0m\u001b[0m\n\u001b[1;32m      7\u001b[0m         \u001b[0mhistograms\u001b[0m\u001b[0;34m=\u001b[0m\u001b[0;36m8\u001b[0m\u001b[0;34m,\u001b[0m\u001b[0;34m\u001b[0m\u001b[0m\n\u001b[0;32m----> 8\u001b[0;31m         orientations=5))) for x in img_gray])\n\u001b[0m",
      "\u001b[0;31mNameError\u001b[0m: name 'daisy' is not defined"
     ]
    }
   ],
   "source": [
    "daisies = np.array([np.concatenate(\n",
    "    np.concatenate(daisy(\n",
    "        x.reshape((32,32)), \n",
    "        step=16, \n",
    "        radius=7, \n",
    "        rings=2, \n",
    "        histograms=8, \n",
    "        orientations=5))) for x in img_gray])"
   ]
  },
  {
   "cell_type": "code",
   "execution_count": 46,
   "metadata": {},
   "outputs": [
    {
     "ename": "NameError",
     "evalue": "name 'daisies' is not defined",
     "output_type": "error",
     "traceback": [
      "\u001b[0;31m---------------------------------------------------------------------------\u001b[0m",
      "\u001b[0;31mNameError\u001b[0m                                 Traceback (most recent call last)",
      "\u001b[0;32m<ipython-input-46-8a2b40725b8e>\u001b[0m in \u001b[0;36m<module>\u001b[0;34m()\u001b[0m\n\u001b[1;32m      1\u001b[0m \u001b[0;31m# SKLearn's implementation\u001b[0m\u001b[0;34m\u001b[0m\u001b[0;34m\u001b[0m\u001b[0m\n\u001b[0;32m----> 2\u001b[0;31m \u001b[0mx\u001b[0m \u001b[0;34m=\u001b[0m \u001b[0mdaisies\u001b[0m\u001b[0;34m\u001b[0m\u001b[0m\n\u001b[0m\u001b[1;32m      3\u001b[0m \u001b[0my\u001b[0m \u001b[0;34m=\u001b[0m \u001b[0mimg_labels\u001b[0m\u001b[0;34m\u001b[0m\u001b[0m\n\u001b[1;32m      4\u001b[0m \u001b[0mcv\u001b[0m \u001b[0;34m=\u001b[0m \u001b[0mStratifiedShuffleSplit\u001b[0m\u001b[0;34m(\u001b[0m\u001b[0mn_splits\u001b[0m\u001b[0;34m=\u001b[0m\u001b[0;36m2\u001b[0m\u001b[0;34m,\u001b[0m \u001b[0mtest_size\u001b[0m\u001b[0;34m=\u001b[0m\u001b[0;36m.2\u001b[0m\u001b[0;34m)\u001b[0m\u001b[0;34m\u001b[0m\u001b[0m\n\u001b[1;32m      5\u001b[0m \u001b[0mpl\u001b[0m \u001b[0;34m=\u001b[0m \u001b[0mPipeline\u001b[0m\u001b[0;34m(\u001b[0m\u001b[0;34m[\u001b[0m\u001b[0;34m(\u001b[0m\u001b[0;34m'scaler'\u001b[0m\u001b[0;34m,\u001b[0m \u001b[0mStandardScaler\u001b[0m\u001b[0;34m(\u001b[0m\u001b[0;34m)\u001b[0m\u001b[0;34m)\u001b[0m\u001b[0;34m,\u001b[0m \u001b[0;34m(\u001b[0m\u001b[0;34m'TLP'\u001b[0m\u001b[0;34m,\u001b[0m \u001b[0mMLPClassifier\u001b[0m\u001b[0;34m(\u001b[0m\u001b[0;34m)\u001b[0m\u001b[0;34m)\u001b[0m\u001b[0;34m]\u001b[0m\u001b[0;34m)\u001b[0m\u001b[0;34m\u001b[0m\u001b[0m\n",
      "\u001b[0;31mNameError\u001b[0m: name 'daisies' is not defined"
     ]
    }
   ],
   "source": [
    "# SKLearn's implementation\n",
    "x = daisies\n",
    "y = img_labels\n",
    "cv = StratifiedShuffleSplit(n_splits=2, test_size=.2)\n",
    "pl = Pipeline([('scaler', StandardScaler()), ('TLP', MLPClassifier())])\n",
    "for train_index, test_index in cv.split(x, y):\n",
    "    pl.fit(x[train_index], y[train_index])\n",
    "    yhat_mlp = pl.predict(x[test_index])\n",
    "    print('f1 score:', mt.f1_score(y[test_index], yhat_mlp, average='macro'))\n",
    "    print(np.bincount(yhat_mlp))"
   ]
  },
  {
   "cell_type": "code",
   "execution_count": 47,
   "metadata": {},
   "outputs": [
    {
     "ename": "NameError",
     "evalue": "name 'y' is not defined",
     "output_type": "error",
     "traceback": [
      "\u001b[0;31m---------------------------------------------------------------------------\u001b[0m",
      "\u001b[0;31mNameError\u001b[0m                                 Traceback (most recent call last)",
      "\u001b[0;32m<ipython-input-47-c401834743ad>\u001b[0m in \u001b[0;36m<module>\u001b[0;34m()\u001b[0m\n\u001b[1;32m      1\u001b[0m \u001b[0mplt\u001b[0m\u001b[0;34m.\u001b[0m\u001b[0mfigure\u001b[0m\u001b[0;34m(\u001b[0m\u001b[0mfigsize\u001b[0m\u001b[0;34m=\u001b[0m\u001b[0;34m(\u001b[0m\u001b[0;36m15\u001b[0m\u001b[0;34m,\u001b[0m\u001b[0;36m5\u001b[0m\u001b[0;34m)\u001b[0m\u001b[0;34m)\u001b[0m\u001b[0;34m\u001b[0m\u001b[0m\n\u001b[0;32m----> 2\u001b[0;31m \u001b[0mcm\u001b[0m \u001b[0;34m=\u001b[0m \u001b[0mmt\u001b[0m\u001b[0;34m.\u001b[0m\u001b[0mconfusion_matrix\u001b[0m\u001b[0;34m(\u001b[0m\u001b[0my\u001b[0m\u001b[0;34m[\u001b[0m\u001b[0mtest_index\u001b[0m\u001b[0;34m]\u001b[0m\u001b[0;34m,\u001b[0m\u001b[0myhat_mlp\u001b[0m\u001b[0;34m)\u001b[0m\u001b[0;34m\u001b[0m\u001b[0m\n\u001b[0m\u001b[1;32m      3\u001b[0m \u001b[0mcm\u001b[0m \u001b[0;34m=\u001b[0m \u001b[0mcm\u001b[0m\u001b[0;34m/\u001b[0m\u001b[0mnp\u001b[0m\u001b[0;34m.\u001b[0m\u001b[0msum\u001b[0m\u001b[0;34m(\u001b[0m\u001b[0mcm\u001b[0m\u001b[0;34m,\u001b[0m\u001b[0maxis\u001b[0m\u001b[0;34m=\u001b[0m\u001b[0;36m1\u001b[0m\u001b[0;34m)\u001b[0m\u001b[0;34m[\u001b[0m\u001b[0;34m:\u001b[0m\u001b[0;34m,\u001b[0m\u001b[0mnp\u001b[0m\u001b[0;34m.\u001b[0m\u001b[0mnewaxis\u001b[0m\u001b[0;34m]\u001b[0m\u001b[0;34m\u001b[0m\u001b[0m\n\u001b[1;32m      4\u001b[0m \u001b[0macc\u001b[0m \u001b[0;34m=\u001b[0m \u001b[0mmt\u001b[0m\u001b[0;34m.\u001b[0m\u001b[0maccuracy_score\u001b[0m\u001b[0;34m(\u001b[0m\u001b[0my\u001b[0m\u001b[0;34m[\u001b[0m\u001b[0mtest_index\u001b[0m\u001b[0;34m]\u001b[0m\u001b[0;34m,\u001b[0m\u001b[0myhat_mlp\u001b[0m\u001b[0;34m)\u001b[0m\u001b[0;34m\u001b[0m\u001b[0m\n\u001b[1;32m      5\u001b[0m \u001b[0mf1\u001b[0m \u001b[0;34m=\u001b[0m \u001b[0mmt\u001b[0m\u001b[0;34m.\u001b[0m\u001b[0mf1_score\u001b[0m\u001b[0;34m(\u001b[0m\u001b[0my\u001b[0m\u001b[0;34m[\u001b[0m\u001b[0mtest_index\u001b[0m\u001b[0;34m]\u001b[0m\u001b[0;34m,\u001b[0m\u001b[0myhat_mlp\u001b[0m\u001b[0;34m,\u001b[0m \u001b[0maverage\u001b[0m\u001b[0;34m=\u001b[0m\u001b[0;34m\"macro\"\u001b[0m\u001b[0;34m)\u001b[0m\u001b[0;34m\u001b[0m\u001b[0m\n",
      "\u001b[0;31mNameError\u001b[0m: name 'y' is not defined"
     ]
    },
    {
     "data": {
      "text/plain": [
       "<Figure size 1080x360 with 0 Axes>"
      ]
     },
     "metadata": {},
     "output_type": "display_data"
    }
   ],
   "source": [
    "plt.figure(figsize=(15,5))\n",
    "cm = mt.confusion_matrix(y[test_index],yhat_mlp)\n",
    "cm = cm/np.sum(cm,axis=1)[:,np.newaxis]\n",
    "acc = mt.accuracy_score(y[test_index],yhat_mlp)\n",
    "f1 = mt.f1_score(y[test_index],yhat_mlp, average=\"macro\")\n",
    "sns.heatmap(cm, annot=True, fmt='.2f')\n",
    "plt.title(\"Using MLP:\"+'f1: {:.4f}'.format(f1)+' acc: {:.4f}'.format(acc))"
   ]
  },
  {
   "cell_type": "code",
   "execution_count": null,
   "metadata": {},
   "outputs": [],
   "source": []
  }
 ],
 "metadata": {
  "kernelspec": {
   "display_name": "Python 3",
   "language": "python",
   "name": "python3"
  },
  "language_info": {
   "codemirror_mode": {
    "name": "ipython",
    "version": 3
   },
   "file_extension": ".py",
   "mimetype": "text/x-python",
   "name": "python",
   "nbconvert_exporter": "python",
   "pygments_lexer": "ipython3",
   "version": "3.6.5"
  }
 },
 "nbformat": 4,
 "nbformat_minor": 2
}

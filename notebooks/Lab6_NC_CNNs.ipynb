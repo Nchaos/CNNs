{
 "cells": [
  {
   "cell_type": "markdown",
   "metadata": {},
   "source": [
    "# Convolutional Neural Networks¶\n",
    "\n",
    "Nick Chao"
   ]
  },
  {
   "cell_type": "markdown",
   "metadata": {},
   "source": [
    "#### Dataset Selection\n",
    "\n",
    "Select a dataset identically to the way you selected for the lab one (i.e., table data). You are not required to use the same dataset that you used in the past, but you are encouraged. You must identify a classification task from the dataset that contains three or more classes to predict. That is it cannot be a binary classification; it must be multi-class prediction. "
   ]
  },
  {
   "cell_type": "markdown",
   "metadata": {},
   "source": [
    "### Preparation (30 points total)  \n",
    "\n",
    "[15 points] Choose and explain what metric(s) you will use to evaluate your algorithm’s performance. You should give a detailed argument for why this (these) metric(s) are appropriate on your data. That is, why is the metric appropriate for the task (e.g., in terms of the business case for the task). Please note: rarely is accuracy the best evaluation metric to use. Think deeply about an appropriate measure of performance.\n",
    "\n",
    "[15 points] Choose the method you will use for dividing your data into training and testing (i.e., are you using Stratified 10-fold cross validation? Shuffle splits? Why?). Explain why your chosen method is appropriate or use more than one method as appropriate. Convince me that your cross validation method is a realistic mirroring of how an algorithm would be used in practice. \n",
    "\n",
    "### Modeling (60 points total)\n",
    "[15 points] Create a convolutional neural network to use on your data using Keras. Setup the training to use data expansion in Keras. Explain why the chosen data expansion techniques are appropriate for your dataset. \n",
    "\n",
    "[20 points] Investigate at least two different convolutional network architectures (and investigate changing some parameters of each architecture). Use the method of cross validation and evaluation metric that you argued for at the beginning of the lab. Visualize the performance of the training and validation sets per iteration (use the \"history\" parameter of Keras).\n",
    "\n",
    "[15 points] Visualize the final results of the CNNs and interpret the performance. Use proper statistics as appropriate, especially for comparing models. \n",
    "\n",
    "[10 points] Compare the performance of your convolutional network to a standard multi-layer perceptron (MLP) using the receiver operating characteristic and area under the curve. Use proper statistical comparison techniques.  \n",
    "\n",
    "### Exceptional Work (10 points total)\n",
    "\n",
    "You have free reign to provide additional analyses. \n",
    "One idea (required for 7000 level students): Use transfer learning to pre-train the weights of your initial layers of your CNN. Compare the performance when using transfer learning to training from scratch in terms of classification performance. "
   ]
  },
  {
   "cell_type": "markdown",
   "metadata": {},
   "source": [
    "### Business Understanding\n",
    "\n",
    "In this lab we will be dealing with image data. I've decided to use Cidar-10 small images as there are about 60,000 (32x32) images with the following labels:\n",
    "\n",
    "- airplane\n",
    "- automobile\n",
    "- bird\n",
    "- cat\n",
    "- deer\n",
    "- dog\n",
    "- frog\n",
    "- horse\n",
    "- ship\n",
    "- truck\n",
    "\n",
    "The goal with this lab is to create a model that can predict as well as possible according to the F1 Score. A succcessful model would have great applications with future technology as it can perform image recongnition with multiple classes. If it is possible to deploy a model that has a strong F1 score then it could be used for people large, expensive computationally expensive computers. \n",
    "\n",
    "For this to be an effective application, I would ideally want an F1 score of around 90% so that the majority of images can be classified correctly without the need for a human to intervene that much. However, this may not be possible so my goal would be around 70-75% but with high catagorical accuracy and without having to train the model for days. "
   ]
  },
  {
   "cell_type": "markdown",
   "metadata": {},
   "source": [
    "### Dependencies"
   ]
  },
  {
   "cell_type": "code",
   "execution_count": 27,
   "metadata": {},
   "outputs": [],
   "source": [
    "import os\n",
    "import keras\n",
    "import numpy as np\n",
    "import seaborn as sns\n",
    "import _pickle as pickle\n",
    "import scipy\n",
    "import pandas as pd\n",
    "\n",
    "from matplotlib import pyplot as plt\n",
    "\n",
    "from keras import backend as K\n",
    "from keras.datasets import cifar10\n",
    "from keras.models import Sequential, Input, Model\n",
    "from keras.layers import Reshape, Dense, Dropout, Activation, Flatten, Conv2D, MaxPooling2D, UpSampling2D\n",
    "from keras.regularizers import l2\n",
    "from keras.preprocessing.image import ImageDataGenerator\n",
    "from keras.layers.normalization import BatchNormalization\n",
    "from keras.callbacks import EarlyStopping\n",
    "\n",
    "from keras.constraints import maxnorm\n",
    "from keras.optimizers import SGD\n",
    "from keras.layers.convolutional import Conv2D, MaxPooling2D\n",
    "from keras.utils import np_utils\n",
    "\n",
    "from scipy import interp\n",
    "\n",
    "skimage.transform.resize\n",
    "\n",
    "from sklearn import metrics as mt\n",
    "from sklearn.model_selection import StratifiedShuffleSplit\n",
    "from sklearn.preprocessing import StandardScaler\n",
    "from sklearn.neural_network import MLPClassifier\n",
    "from sklearn.pipeline import Pipeline\n",
    "#from skimage.io import imshow\n",
    "#from skimage.feature import daisy\n",
    "#from skimage.transform import resize\n",
    "#from skimage import data, color\n",
    "\n",
    "\n",
    "%matplotlib inline"
   ]
  },
  {
   "cell_type": "markdown",
   "metadata": {},
   "source": [
    "## Preparation"
   ]
  },
  {
   "cell_type": "code",
   "execution_count": 3,
   "metadata": {},
   "outputs": [],
   "source": [
    "# From https://keras.io/datasets/\n",
    "(X_train, Y_train), (X_test, Y_test) = cifar10.load_data()"
   ]
  },
  {
   "cell_type": "code",
   "execution_count": 4,
   "metadata": {},
   "outputs": [],
   "source": [
    "NUM_CLASSES = 10\n",
    "Y_train_ohe = keras.utils.to_categorical(Y_train, NUM_CLASSES)\n",
    "Y_test_ohe = keras.utils.to_categorical(Y_test, NUM_CLASSES)"
   ]
  },
  {
   "cell_type": "code",
   "execution_count": 5,
   "metadata": {},
   "outputs": [],
   "source": [
    "datagen = ImageDataGenerator(\n",
    "    rotation_range=5,\n",
    "    width_shift_range=0.1,\n",
    "    height_shift_range=0.1\n",
    ")\n",
    "datagen.fit(X_train)"
   ]
  },
  {
   "cell_type": "markdown",
   "metadata": {},
   "source": [
    "### Metrics"
   ]
  },
  {
   "cell_type": "markdown",
   "metadata": {},
   "source": [
    "Before we begain, we need to decide on a metric to measure the success of our model. When classifying an image, there are four possible cases that could occur. \n",
    "\n",
    "1) True Positive: The image is class X and it was classified as class X\n",
    "\n",
    "2) True Negative: The image is not class X and is not classified as X\n",
    "\n",
    "3) False Positive: The image is not class X and is classified as X\n",
    "\n",
    "4) False Negative: The image is class X and is not classified as X\n",
    "\n",
    "It should be noted that the TP and TN are complimentary and paired up with each other in these cases. \n",
    "\n",
    "More information about these cases can be found here https://www.researchgate.net/post/How_to_define_Ture_Positive_TP_True_NegativeTN_False_PositiveFP_False_NegativeFN\n",
    "\n",
    "For this lab, I have decided to use a combination of multiple metrics to get the best feel about the success of this model. I will use categorical accuracy for interpreting the confusion matrices. As for the models, F-Score makes the most sense. This is because F-score (or F1 Score) is a combination of recall and precision. A good recall would be the ability for the model to identify all X class images as X. A high precision is the ability for the model to be correct when it claims image X is of class X. Since F1 Score is not part of the keras metric library, we must create a custom macro F1 score to test our model. \n"
   ]
  },
  {
   "cell_type": "markdown",
   "metadata": {},
   "source": [
    "### Cross-Validation"
   ]
  },
  {
   "cell_type": "markdown",
   "metadata": {},
   "source": [
    "Now that we know how we are going to score and measure the success of our model, we need to decide how to split up the data. There are many different ways we can split the data up for training and testing purposes. In this specific senerio, we have a few properties of the dataset that should be considered. First of all, the dataset is perfectly balanced. All the images are the same size, there are exactly 6000 images per class, and there are 10 classes. In addition, there is no need for ordering data because this dataset is not a time-series or any sort of ordered series. Because of these characteristics, I believe it would be acceptable to use any number of different cross-validation methods. In the interest of time, I will be perform 2 splits of the shuffle split to train the model and visual the test data.\n",
    "\n",
    "\n"
   ]
  },
  {
   "cell_type": "code",
   "execution_count": 49,
   "metadata": {},
   "outputs": [],
   "source": [
    "# from https://stackoverflow.com/questions/43547402/how-to-calculate-f1-macro-in-keras# from h \n",
    "\n",
    "from keras import backend as K\n",
    "\n",
    "def f1(y_true, y_pred):\n",
    "    def recall(y_true, y_pred):\n",
    "        \"\"\"Recall metric.\n",
    "\n",
    "        Only computes a batch-wise average of recall.\n",
    "\n",
    "        Computes the recall, a metric for multi-label classification of\n",
    "        how many relevant items are selected.\n",
    "        \"\"\"\n",
    "        true_positives = K.sum(K.round(K.clip(y_true * y_pred, 0, 1)))\n",
    "        possible_positives = K.sum(K.round(K.clip(y_true, 0, 1)))\n",
    "        recall = true_positives / (possible_positives + K.epsilon())\n",
    "        return recall\n",
    "\n",
    "    def precision(y_true, y_pred):\n",
    "        \"\"\"Precision metric.\n",
    "\n",
    "        Only computes a batch-wise average of precision.\n",
    "\n",
    "        Computes the precision, a metric for multi-label classification of\n",
    "        how many selected items are relevant.\n",
    "        \"\"\"\n",
    "        true_positives = K.sum(K.round(K.clip(y_true * y_pred, 0, 1)))\n",
    "        predicted_positives = K.sum(K.round(K.clip(y_pred, 0, 1)))\n",
    "        precision = true_positives / (predicted_positives + K.epsilon())\n",
    "        return precision\n",
    "    precision = precision(y_true, y_pred)\n",
    "    recall = recall(y_true, y_pred)\n",
    "    return 2*((precision*recall)/(precision+recall+K.epsilon()))"
   ]
  },
  {
   "cell_type": "code",
   "execution_count": 7,
   "metadata": {},
   "outputs": [],
   "source": [
    "# pretty confusion matrices\n",
    "def summarize_net(net, X_test, y_test, title_text=''):\n",
    "    plt.figure(figsize=(15,5))\n",
    "    yhat = np.argmax(net.predict(X_test), axis=1)\n",
    "    acc = mt.accuracy_score(y_test,yhat)\n",
    "    f1 = mt.f1_score(y_test,yhat, average=\"macro\")\n",
    "    cm = mt.confusion_matrix(y_test,yhat)\n",
    "    cm = cm/np.sum(cm,axis=1)[:,np.newaxis]\n",
    "    sns.heatmap(cm, annot=True, fmt='.2f')\n",
    "    plt.title(title_text+'F1: {:.4f}'.format(f1)+' Acc: {:.4f}'.format(acc))\n"
   ]
  },
  {
   "cell_type": "code",
   "execution_count": 9,
   "metadata": {},
   "outputs": [
    {
     "ename": "NameError",
     "evalue": "name 'imresize' is not defined",
     "output_type": "error",
     "traceback": [
      "\u001b[0;31m---------------------------------------------------------------------------\u001b[0m",
      "\u001b[0;31mNameError\u001b[0m                                 Traceback (most recent call last)",
      "\u001b[0;32m<ipython-input-9-b686648aaac1>\u001b[0m in \u001b[0;36m<module>\u001b[0;34m()\u001b[0m\n\u001b[0;32m----> 1\u001b[0;31m \u001b[0mX_train_up\u001b[0m \u001b[0;34m=\u001b[0m \u001b[0;34m[\u001b[0m\u001b[0mimresize\u001b[0m\u001b[0;34m(\u001b[0m\u001b[0mx\u001b[0m\u001b[0;34m,\u001b[0m\u001b[0msize\u001b[0m\u001b[0;34m=\u001b[0m\u001b[0;34m(\u001b[0m\u001b[0;36m64\u001b[0m\u001b[0;34m,\u001b[0m\u001b[0;36m64\u001b[0m\u001b[0;34m,\u001b[0m\u001b[0;36m3\u001b[0m\u001b[0;34m)\u001b[0m\u001b[0;34m,\u001b[0m \u001b[0minterp\u001b[0m\u001b[0;34m=\u001b[0m\u001b[0;34m'bicubic'\u001b[0m\u001b[0;34m)\u001b[0m \u001b[0;32mfor\u001b[0m \u001b[0mx\u001b[0m \u001b[0;32min\u001b[0m \u001b[0mX_train\u001b[0m\u001b[0;34m]\u001b[0m\u001b[0;34m\u001b[0m\u001b[0m\n\u001b[0m\u001b[1;32m      2\u001b[0m \u001b[0mX_train_up\u001b[0m \u001b[0;34m=\u001b[0m \u001b[0mnp\u001b[0m\u001b[0;34m.\u001b[0m\u001b[0mstack\u001b[0m\u001b[0;34m(\u001b[0m\u001b[0mX_train_up\u001b[0m\u001b[0;34m,\u001b[0m\u001b[0maxis\u001b[0m\u001b[0;34m=\u001b[0m\u001b[0;36m0\u001b[0m\u001b[0;34m)\u001b[0m\u001b[0;34m\u001b[0m\u001b[0m\n\u001b[1;32m      3\u001b[0m \u001b[0mprint\u001b[0m\u001b[0;34m(\u001b[0m\u001b[0mX_train_up\u001b[0m\u001b[0;34m.\u001b[0m\u001b[0mshape\u001b[0m\u001b[0;34m)\u001b[0m\u001b[0;34m\u001b[0m\u001b[0m\n\u001b[1;32m      4\u001b[0m \u001b[0;34m\u001b[0m\u001b[0m\n\u001b[1;32m      5\u001b[0m \u001b[0mX_test_up\u001b[0m \u001b[0;34m=\u001b[0m \u001b[0;34m[\u001b[0m\u001b[0mimresize\u001b[0m\u001b[0;34m(\u001b[0m\u001b[0mx\u001b[0m\u001b[0;34m,\u001b[0m\u001b[0msize\u001b[0m\u001b[0;34m=\u001b[0m\u001b[0;34m(\u001b[0m\u001b[0;36m64\u001b[0m\u001b[0;34m,\u001b[0m\u001b[0;36m64\u001b[0m\u001b[0;34m,\u001b[0m\u001b[0;36m3\u001b[0m\u001b[0;34m)\u001b[0m\u001b[0;34m,\u001b[0m \u001b[0minterp\u001b[0m\u001b[0;34m=\u001b[0m\u001b[0;34m'bicubic'\u001b[0m\u001b[0;34m)\u001b[0m \u001b[0;32mfor\u001b[0m \u001b[0mx\u001b[0m \u001b[0;32min\u001b[0m \u001b[0mX_test\u001b[0m\u001b[0;34m]\u001b[0m\u001b[0;34m\u001b[0m\u001b[0m\n",
      "\u001b[0;32m<ipython-input-9-b686648aaac1>\u001b[0m in \u001b[0;36m<listcomp>\u001b[0;34m(.0)\u001b[0m\n\u001b[0;32m----> 1\u001b[0;31m \u001b[0mX_train_up\u001b[0m \u001b[0;34m=\u001b[0m \u001b[0;34m[\u001b[0m\u001b[0mimresize\u001b[0m\u001b[0;34m(\u001b[0m\u001b[0mx\u001b[0m\u001b[0;34m,\u001b[0m\u001b[0msize\u001b[0m\u001b[0;34m=\u001b[0m\u001b[0;34m(\u001b[0m\u001b[0;36m64\u001b[0m\u001b[0;34m,\u001b[0m\u001b[0;36m64\u001b[0m\u001b[0;34m,\u001b[0m\u001b[0;36m3\u001b[0m\u001b[0;34m)\u001b[0m\u001b[0;34m,\u001b[0m \u001b[0minterp\u001b[0m\u001b[0;34m=\u001b[0m\u001b[0;34m'bicubic'\u001b[0m\u001b[0;34m)\u001b[0m \u001b[0;32mfor\u001b[0m \u001b[0mx\u001b[0m \u001b[0;32min\u001b[0m \u001b[0mX_train\u001b[0m\u001b[0;34m]\u001b[0m\u001b[0;34m\u001b[0m\u001b[0m\n\u001b[0m\u001b[1;32m      2\u001b[0m \u001b[0mX_train_up\u001b[0m \u001b[0;34m=\u001b[0m \u001b[0mnp\u001b[0m\u001b[0;34m.\u001b[0m\u001b[0mstack\u001b[0m\u001b[0;34m(\u001b[0m\u001b[0mX_train_up\u001b[0m\u001b[0;34m,\u001b[0m\u001b[0maxis\u001b[0m\u001b[0;34m=\u001b[0m\u001b[0;36m0\u001b[0m\u001b[0;34m)\u001b[0m\u001b[0;34m\u001b[0m\u001b[0m\n\u001b[1;32m      3\u001b[0m \u001b[0mprint\u001b[0m\u001b[0;34m(\u001b[0m\u001b[0mX_train_up\u001b[0m\u001b[0;34m.\u001b[0m\u001b[0mshape\u001b[0m\u001b[0;34m)\u001b[0m\u001b[0;34m\u001b[0m\u001b[0m\n\u001b[1;32m      4\u001b[0m \u001b[0;34m\u001b[0m\u001b[0m\n\u001b[1;32m      5\u001b[0m \u001b[0mX_test_up\u001b[0m \u001b[0;34m=\u001b[0m \u001b[0;34m[\u001b[0m\u001b[0mimresize\u001b[0m\u001b[0;34m(\u001b[0m\u001b[0mx\u001b[0m\u001b[0;34m,\u001b[0m\u001b[0msize\u001b[0m\u001b[0;34m=\u001b[0m\u001b[0;34m(\u001b[0m\u001b[0;36m64\u001b[0m\u001b[0;34m,\u001b[0m\u001b[0;36m64\u001b[0m\u001b[0;34m,\u001b[0m\u001b[0;36m3\u001b[0m\u001b[0;34m)\u001b[0m\u001b[0;34m,\u001b[0m \u001b[0minterp\u001b[0m\u001b[0;34m=\u001b[0m\u001b[0;34m'bicubic'\u001b[0m\u001b[0;34m)\u001b[0m \u001b[0;32mfor\u001b[0m \u001b[0mx\u001b[0m \u001b[0;32min\u001b[0m \u001b[0mX_test\u001b[0m\u001b[0;34m]\u001b[0m\u001b[0;34m\u001b[0m\u001b[0m\n",
      "\u001b[0;31mNameError\u001b[0m: name 'imresize' is not defined"
     ]
    }
   ],
   "source": [
    "X_train_up = [imresize(x,size=(64,64,3), interp='bicubic') for x in X_train]\n",
    "X_train_up = np.stack(X_train_up,axis=0)\n",
    "print(X_train_up.shape)\n",
    "\n",
    "X_test_up = [imresize(x,size=(64,64,3), interp='bicubic') for x in X_test]\n",
    "X_test_up = np.stack(X_test_up,axis=0)\n",
    "print(X_test_up.shape)"
   ]
  },
  {
   "cell_type": "markdown",
   "metadata": {},
   "source": [
    "### Lenet"
   ]
  },
  {
   "cell_type": "code",
   "execution_count": 19,
   "metadata": {},
   "outputs": [
    {
     "name": "stdout",
     "output_type": "stream",
     "text": [
      "Epoch 1/25\n",
      " - 32s - loss: 1.7547 - acc: 0.3778 - fmeasure: 0.1709 - val_loss: 1.5941 - val_acc: 0.4274 - val_fmeasure: 0.2617\n",
      "Epoch 2/25\n",
      " - 32s - loss: 1.5137 - acc: 0.4733 - fmeasure: 0.3305 - val_loss: 1.5847 - val_acc: 0.4396 - val_fmeasure: 0.3411\n",
      "Epoch 3/25\n",
      " - 32s - loss: 1.4147 - acc: 0.5089 - fmeasure: 0.4000 - val_loss: 1.5180 - val_acc: 0.4959 - val_fmeasure: 0.4250\n",
      "Epoch 4/25\n",
      " - 32s - loss: 1.3638 - acc: 0.5255 - fmeasure: 0.4373 - val_loss: 1.4867 - val_acc: 0.4917 - val_fmeasure: 0.4180\n",
      "Epoch 5/25\n",
      " - 31s - loss: 1.3242 - acc: 0.5417 - fmeasure: 0.4657 - val_loss: 1.3659 - val_acc: 0.5202 - val_fmeasure: 0.4553\n",
      "Epoch 6/25\n",
      " - 32s - loss: 1.2940 - acc: 0.5517 - fmeasure: 0.4818 - val_loss: 1.5056 - val_acc: 0.4759 - val_fmeasure: 0.4216\n",
      "Epoch 7/25\n",
      " - 32s - loss: 1.2652 - acc: 0.5663 - fmeasure: 0.5011 - val_loss: 1.3094 - val_acc: 0.5434 - val_fmeasure: 0.4827\n",
      "Epoch 8/25\n",
      " - 31s - loss: 1.2478 - acc: 0.5710 - fmeasure: 0.5126 - val_loss: 1.2508 - val_acc: 0.5786 - val_fmeasure: 0.5340\n",
      "Epoch 9/25\n",
      " - 31s - loss: 1.2300 - acc: 0.5759 - fmeasure: 0.5200 - val_loss: 1.4094 - val_acc: 0.5062 - val_fmeasure: 0.4576\n",
      "Epoch 10/25\n",
      " - 32s - loss: 1.2130 - acc: 0.5833 - fmeasure: 0.5284 - val_loss: 1.2678 - val_acc: 0.5752 - val_fmeasure: 0.5296\n",
      "Epoch 11/25\n",
      " - 32s - loss: 1.1959 - acc: 0.5904 - fmeasure: 0.5402 - val_loss: 1.2760 - val_acc: 0.5556 - val_fmeasure: 0.5131\n",
      "Epoch 12/25\n",
      " - 31s - loss: 1.1832 - acc: 0.5925 - fmeasure: 0.5433 - val_loss: 1.3555 - val_acc: 0.5312 - val_fmeasure: 0.4944\n",
      "Epoch 13/25\n",
      " - 32s - loss: 1.1707 - acc: 0.5956 - fmeasure: 0.5523 - val_loss: 1.2240 - val_acc: 0.5791 - val_fmeasure: 0.5371\n",
      "Epoch 14/25\n",
      " - 32s - loss: 1.1578 - acc: 0.6027 - fmeasure: 0.5586 - val_loss: 1.4569 - val_acc: 0.5091 - val_fmeasure: 0.4581\n",
      "Epoch 15/25\n",
      " - 31s - loss: 1.1520 - acc: 0.6041 - fmeasure: 0.5656 - val_loss: 1.1410 - val_acc: 0.6098 - val_fmeasure: 0.5819\n",
      "Epoch 16/25\n",
      " - 32s - loss: 1.1306 - acc: 0.6114 - fmeasure: 0.5724 - val_loss: 1.1177 - val_acc: 0.6190 - val_fmeasure: 0.5862\n",
      "Epoch 17/25\n",
      " - 32s - loss: 1.1273 - acc: 0.6138 - fmeasure: 0.5769 - val_loss: 1.1911 - val_acc: 0.5897 - val_fmeasure: 0.5575\n",
      "Epoch 18/25\n",
      " - 32s - loss: 1.1182 - acc: 0.6159 - fmeasure: 0.5771 - val_loss: 1.1220 - val_acc: 0.6177 - val_fmeasure: 0.5878\n",
      "Epoch 19/25\n",
      " - 32s - loss: 1.1196 - acc: 0.6158 - fmeasure: 0.5795 - val_loss: 1.5343 - val_acc: 0.5219 - val_fmeasure: 0.5046\n",
      "Epoch 20/25\n",
      " - 31s - loss: 1.1036 - acc: 0.6183 - fmeasure: 0.5857 - val_loss: 1.2062 - val_acc: 0.5919 - val_fmeasure: 0.5721\n",
      "Epoch 21/25\n",
      " - 32s - loss: 1.0994 - acc: 0.6205 - fmeasure: 0.5868 - val_loss: 1.4513 - val_acc: 0.5339 - val_fmeasure: 0.5194\n",
      "Epoch 22/25\n",
      " - 32s - loss: 1.1021 - acc: 0.6222 - fmeasure: 0.5886 - val_loss: 1.1292 - val_acc: 0.6104 - val_fmeasure: 0.5852\n",
      "Epoch 23/25\n",
      " - 31s - loss: 1.0880 - acc: 0.6264 - fmeasure: 0.5948 - val_loss: 1.3650 - val_acc: 0.5334 - val_fmeasure: 0.5120\n",
      "Epoch 24/25\n",
      " - 32s - loss: 1.0802 - acc: 0.6266 - fmeasure: 0.5966 - val_loss: 1.2704 - val_acc: 0.5821 - val_fmeasure: 0.5660\n",
      "Epoch 25/25\n",
      " - 32s - loss: 1.0717 - acc: 0.6314 - fmeasure: 0.5998 - val_loss: 1.0769 - val_acc: 0.6299 - val_fmeasure: 0.6117\n",
      "Epoch 1/25\n",
      " - 32s - loss: 1.0851 - acc: 0.6293 - fmeasure: 0.5987 - val_loss: 1.0057 - val_acc: 0.6581 - val_fmeasure: 0.6350\n",
      "Epoch 2/25\n",
      " - 31s - loss: 1.0745 - acc: 0.6302 - fmeasure: 0.6008 - val_loss: 1.0715 - val_acc: 0.6271 - val_fmeasure: 0.6095\n",
      "Epoch 3/25\n",
      " - 31s - loss: 1.0663 - acc: 0.6341 - fmeasure: 0.6057 - val_loss: 1.1361 - val_acc: 0.6150 - val_fmeasure: 0.5947\n",
      "Epoch 4/25\n",
      " - 31s - loss: 1.0616 - acc: 0.6348 - fmeasure: 0.6062 - val_loss: 1.3294 - val_acc: 0.5512 - val_fmeasure: 0.5277\n",
      "Epoch 5/25\n",
      " - 31s - loss: 1.0566 - acc: 0.6364 - fmeasure: 0.6091 - val_loss: 1.2654 - val_acc: 0.5626 - val_fmeasure: 0.5409\n",
      "Epoch 6/25\n",
      " - 31s - loss: 1.0478 - acc: 0.6406 - fmeasure: 0.6116 - val_loss: 1.1147 - val_acc: 0.6167 - val_fmeasure: 0.6039\n",
      "Epoch 7/25\n",
      " - 31s - loss: 1.0470 - acc: 0.6413 - fmeasure: 0.6135 - val_loss: 1.0692 - val_acc: 0.6343 - val_fmeasure: 0.6146\n",
      "Epoch 8/25\n",
      " - 31s - loss: 1.0466 - acc: 0.6389 - fmeasure: 0.6129 - val_loss: 1.2290 - val_acc: 0.5867 - val_fmeasure: 0.5715\n",
      "Epoch 9/25\n",
      " - 31s - loss: 1.0410 - acc: 0.6404 - fmeasure: 0.6134 - val_loss: 1.4372 - val_acc: 0.5168 - val_fmeasure: 0.4961\n",
      "Epoch 10/25\n",
      " - 31s - loss: 1.0340 - acc: 0.6436 - fmeasure: 0.6193 - val_loss: 1.2366 - val_acc: 0.5893 - val_fmeasure: 0.5773\n",
      "Epoch 11/25\n",
      " - 31s - loss: 1.0298 - acc: 0.6464 - fmeasure: 0.6229 - val_loss: 1.3053 - val_acc: 0.5822 - val_fmeasure: 0.5738\n",
      "CPU times: user 2h 53min 19s, sys: 1h 7min 14s, total: 4h 33s\n",
      "Wall time: 18min 57s\n"
     ]
    }
   ],
   "source": [
    "%%time\n",
    "\n",
    "l2_lambda = 0.0001\n",
    "# build model\n",
    "lenet = Sequential()\n",
    "lenet.add(Conv2D(filters=6,kernel_size=(5,5),\n",
    "               input_shape = (32,32,3), \n",
    "               padding='valid', \n",
    "               kernel_initializer='he_uniform', \n",
    "               kernel_regularizer=l2(l2_lambda)))\n",
    "lenet.add(MaxPooling2D(pool_size=(2, 2), data_format=\"channels_last\"))\n",
    "lenet.add(BatchNormalization())\n",
    "lenet.add(Activation(\"sigmoid\"))\n",
    "lenet.add(Conv2D(filters=16,kernel_size=(5,5), \n",
    "               padding='valid', \n",
    "               kernel_initializer='he_uniform', \n",
    "               kernel_regularizer=l2(l2_lambda)))\n",
    "lenet.add(MaxPooling2D(pool_size=(2, 2), data_format=\"channels_last\"))\n",
    "lenet.add(BatchNormalization())\n",
    "lenet.add(Activation(\"sigmoid\"))\n",
    "#lenet.add(Dropout(0.5))\n",
    "lenet.add(Conv2D(filters=120,kernel_size=(1,1), \n",
    "               padding='valid', \n",
    "               kernel_initializer='he_uniform', \n",
    "               kernel_regularizer=l2(l2_lambda)))\n",
    "\n",
    "lenet.add(Flatten())\n",
    "lenet.add(Dense(84))\n",
    "lenet.add(Activation(\"sigmoid\"))\n",
    "lenet.add(Dense(NUM_CLASSES))\n",
    "lenet.add(Activation('softmax'))\n",
    "lenet.compile(loss='categorical_crossentropy', # 'categorical_crossentropy' 'mean_squared_error'\n",
    "                optimizer='rmsprop', # 'adadelta' 'rmsprop'\n",
    "                metrics=['accuracy', fmeasure])\n",
    "\n",
    "# the flow method yields batches of images indefinitely, with the given transformations\n",
    "cv = StratifiedShuffleSplit(n_splits=2, test_size=.2)\n",
    "for train_index, test_index in cv.split(X_train, Y_train_ohe):\n",
    "    lenet.fit_generator(datagen.flow(X_train[train_index], Y_train_ohe[train_index], batch_size=128), \n",
    "      steps_per_epoch=int(len(X_train[train_index])/128), # how many generators to go through per epoch\n",
    "      epochs=25, verbose=2,\n",
    "      validation_data=(X_train[test_index],Y_train_ohe[test_index]),\n",
    "      callbacks=[EarlyStopping(monitor='val_loss', patience=10)]\n",
    "     )"
   ]
  },
  {
   "cell_type": "markdown",
   "metadata": {},
   "source": [
    "temp"
   ]
  },
  {
   "cell_type": "code",
   "execution_count": 20,
   "metadata": {},
   "outputs": [
    {
     "data": {
      "image/png": "[encoded data removed]",
      "text/plain": [
       "<Figure size 1080x360 with 2 Axes>"
      ]
     },
     "metadata": {},
     "output_type": "display_data"
    }
   ],
   "source": [
    "summarize_net(lenet, X_test, Y_test, title_text='Using LeNet:')"
   ]
  },
  {
   "cell_type": "markdown",
   "metadata": {},
   "source": [
    "temp"
   ]
  },
  {
   "cell_type": "code",
   "execution_count": 22,
   "metadata": {},
   "outputs": [
    {
     "data": {
      "image/png": "[encoded data removed]",
      "text/plain": [
       "<Figure size 432x288 with 6 Axes>"
      ]
     },
     "metadata": {},
     "output_type": "display_data"
    },
    {
     "data": {
      "image/png": "[encoded data removed]",
      "text/plain": [
       "<Figure size 432x288 with 15 Axes>"
      ]
     },
     "metadata": {},
     "output_type": "display_data"
    },
    {
     "data": {
      "image/png": "[encoded data removed]",
      "text/plain": [
       "<Figure size 432x288 with 15 Axes>"
      ]
     },
     "metadata": {},
     "output_type": "display_data"
    }
   ],
   "source": [
    "max_plots = 15\n",
    "for layer in lenet.layers:\n",
    "    if type(layer) == keras.layers.convolutional.Conv2D:\n",
    "        weights = layer.get_weights()[0]\n",
    "        for i in range(min(weights.shape[-1], max_plots)):\n",
    "            plt.subplot(1, min(weights.shape[-1], max_plots), i+1)\n",
    "            plt.imshow(weights[:,:,0,i])\n",
    "            plt.axis('off')\n",
    "        plt.show()"
   ]
  },
  {
   "cell_type": "markdown",
   "metadata": {},
   "source": [
    "### Simple CNN Model"
   ]
  },
  {
   "cell_type": "markdown",
   "metadata": {},
   "source": [
    "temp"
   ]
  },
  {
   "cell_type": "code",
   "execution_count": 28,
   "metadata": {},
   "outputs": [
    {
     "name": "stdout",
     "output_type": "stream",
     "text": [
      "_________________________________________________________________\n",
      "Layer (type)                 Output Shape              Param #   \n",
      "=================================================================\n",
      "conv2d_36 (Conv2D)           (None, 32, 32, 32)        896       \n",
      "_________________________________________________________________\n",
      "dropout_15 (Dropout)         (None, 32, 32, 32)        0         \n",
      "_________________________________________________________________\n",
      "conv2d_37 (Conv2D)           (None, 32, 32, 32)        9248      \n",
      "_________________________________________________________________\n",
      "max_pooling2d_22 (MaxPooling (None, 32, 16, 16)        0         \n",
      "_________________________________________________________________\n",
      "conv2d_38 (Conv2D)           (None, 64, 16, 16)        18496     \n",
      "_________________________________________________________________\n",
      "dropout_16 (Dropout)         (None, 64, 16, 16)        0         \n",
      "_________________________________________________________________\n",
      "conv2d_39 (Conv2D)           (None, 64, 16, 16)        36928     \n",
      "_________________________________________________________________\n",
      "max_pooling2d_23 (MaxPooling (None, 64, 8, 8)          0         \n",
      "_________________________________________________________________\n",
      "conv2d_40 (Conv2D)           (None, 128, 8, 8)         73856     \n",
      "_________________________________________________________________\n",
      "dropout_17 (Dropout)         (None, 128, 8, 8)         0         \n",
      "_________________________________________________________________\n",
      "conv2d_41 (Conv2D)           (None, 128, 8, 8)         147584    \n",
      "_________________________________________________________________\n",
      "max_pooling2d_24 (MaxPooling (None, 128, 4, 4)         0         \n",
      "_________________________________________________________________\n",
      "flatten_9 (Flatten)          (None, 2048)              0         \n",
      "_________________________________________________________________\n",
      "dropout_18 (Dropout)         (None, 2048)              0         \n",
      "_________________________________________________________________\n",
      "dense_13 (Dense)             (None, 1024)              2098176   \n",
      "_________________________________________________________________\n",
      "dropout_19 (Dropout)         (None, 1024)              0         \n",
      "_________________________________________________________________\n",
      "dense_14 (Dense)             (None, 512)               524800    \n",
      "_________________________________________________________________\n",
      "dropout_20 (Dropout)         (None, 512)               0         \n",
      "_________________________________________________________________\n",
      "dense_15 (Dense)             (None, 10)                5130      \n",
      "=================================================================\n",
      "Total params: 2,915,114\n",
      "Trainable params: 2,915,114\n",
      "Non-trainable params: 0\n",
      "_________________________________________________________________\n",
      "None\n"
     ]
    }
   ],
   "source": [
    "# Simple CNN model for CIFAR-10\n",
    "\n",
    "K.set_image_dim_ordering('th')\n",
    "\n",
    "# Create the model\n",
    "model = Sequential()\n",
    "model.add(Conv2D(32, (3, 3), input_shape=(3, 32, 32), activation='relu', padding='same'))\n",
    "model.add(Dropout(0.2))\n",
    "model.add(Conv2D(32, (3, 3), activation='relu', padding='same'))\n",
    "model.add(MaxPooling2D(pool_size=(2, 2)))\n",
    "model.add(Conv2D(64, (3, 3), activation='relu', padding='same'))\n",
    "model.add(Dropout(0.2))\n",
    "model.add(Conv2D(64, (3, 3), activation='relu', padding='same'))\n",
    "model.add(MaxPooling2D(pool_size=(2, 2)))\n",
    "model.add(Conv2D(128, (3, 3), activation='relu', padding='same'))\n",
    "model.add(Dropout(0.2))\n",
    "model.add(Conv2D(128, (3, 3), activation='relu', padding='same'))\n",
    "model.add(MaxPooling2D(pool_size=(2, 2)))\n",
    "model.add(Flatten())\n",
    "model.add(Dropout(0.2))\n",
    "model.add(Dense(1024, activation='relu', kernel_constraint=maxnorm(3)))\n",
    "model.add(Dropout(0.2))\n",
    "model.add(Dense(512, activation='relu', kernel_constraint=maxnorm(3)))\n",
    "model.add(Dropout(0.2))\n",
    "model.add(Dense(NUM_CLASSES, activation='softmax'))\n",
    "# Compile model\n",
    "epochs = 25\n",
    "lrate = 0.01\n",
    "decay = lrate/epochs\n",
    "sgd = SGD(lr=lrate, momentum=0.9, decay=decay, nesterov=False)\n",
    "model.compile(loss='categorical_crossentropy', optimizer=sgd, metrics=['accuracy', fmeasure])\n",
    "print(model.summary())"
   ]
  },
  {
   "cell_type": "markdown",
   "metadata": {},
   "source": [
    "TEMP"
   ]
  },
  {
   "cell_type": "code",
   "execution_count": 30,
   "metadata": {},
   "outputs": [
    {
     "name": "stdout",
     "output_type": "stream",
     "text": [
      "WARNING:tensorflow:Variable *= will be deprecated. Use variable.assign_mul if you want assignment to the variable value or 'x = x * y' if you want a new python Tensor object.\n",
      "Train on 40000 samples, validate on 10000 samples\n",
      "Epoch 1/25\n",
      "40000/40000 [==============================] - 119s 3ms/step - loss: 1.9820 - acc: 0.2661 - fmeasure: 0.0592 - val_loss: 1.7149 - val_acc: 0.3706 - val_fmeasure: 0.1297\n",
      "Epoch 2/25\n",
      "40000/40000 [==============================] - 116s 3ms/step - loss: 1.5761 - acc: 0.4228 - fmeasure: 0.2745 - val_loss: 1.4173 - val_acc: 0.4799 - val_fmeasure: 0.3365\n",
      "Epoch 3/25\n",
      "40000/40000 [==============================] - 116s 3ms/step - loss: 1.4037 - acc: 0.4904 - fmeasure: 0.3914 - val_loss: 1.3094 - val_acc: 0.5240 - val_fmeasure: 0.4097\n",
      "Epoch 4/25\n",
      "40000/40000 [==============================] - 114s 3ms/step - loss: 1.2825 - acc: 0.5361 - fmeasure: 0.4647 - val_loss: 1.3295 - val_acc: 0.5298 - val_fmeasure: 0.4591\n",
      "Epoch 5/25\n",
      "40000/40000 [==============================] - 113s 3ms/step - loss: 1.1812 - acc: 0.5742 - fmeasure: 0.5217 - val_loss: 1.0977 - val_acc: 0.6107 - val_fmeasure: 0.5429\n",
      "Epoch 6/25\n",
      "40000/40000 [==============================] - 113s 3ms/step - loss: 1.1039 - acc: 0.6040 - fmeasure: 0.5616 - val_loss: 1.0711 - val_acc: 0.6227 - val_fmeasure: 0.5780\n",
      "Epoch 7/25\n",
      "40000/40000 [==============================] - 112s 3ms/step - loss: 1.0315 - acc: 0.6315 - fmeasure: 0.5987 - val_loss: 0.9803 - val_acc: 0.6573 - val_fmeasure: 0.6155\n",
      "Epoch 8/25\n",
      "40000/40000 [==============================] - 113s 3ms/step - loss: 0.9733 - acc: 0.6542 - fmeasure: 0.6260 - val_loss: 0.9299 - val_acc: 0.6735 - val_fmeasure: 0.6408\n",
      "Epoch 9/25\n",
      "40000/40000 [==============================] - 112s 3ms/step - loss: 0.9083 - acc: 0.6766 - fmeasure: 0.6550 - val_loss: 0.8869 - val_acc: 0.6860 - val_fmeasure: 0.6681\n",
      "Epoch 10/25\n",
      "40000/40000 [==============================] - 112s 3ms/step - loss: 0.8595 - acc: 0.6935 - fmeasure: 0.6766 - val_loss: 0.8515 - val_acc: 0.7020 - val_fmeasure: 0.6801\n",
      "Epoch 11/25\n",
      "40000/40000 [==============================] - 112s 3ms/step - loss: 0.8130 - acc: 0.7127 - fmeasure: 0.6978 - val_loss: 0.8134 - val_acc: 0.7125 - val_fmeasure: 0.7024\n",
      "Epoch 12/25\n",
      "40000/40000 [==============================] - 111s 3ms/step - loss: 0.7790 - acc: 0.7246 - fmeasure: 0.7131 - val_loss: 0.8066 - val_acc: 0.7170 - val_fmeasure: 0.7036\n",
      "Epoch 13/25\n",
      "40000/40000 [==============================] - 111s 3ms/step - loss: 0.7358 - acc: 0.7397 - fmeasure: 0.7298 - val_loss: 0.7747 - val_acc: 0.7299 - val_fmeasure: 0.7206\n",
      "Epoch 14/25\n",
      "40000/40000 [==============================] - 111s 3ms/step - loss: 0.7031 - acc: 0.7496 - fmeasure: 0.7414 - val_loss: 0.7561 - val_acc: 0.7345 - val_fmeasure: 0.7298\n",
      "Epoch 15/25\n",
      "40000/40000 [==============================] - 113s 3ms/step - loss: 0.6713 - acc: 0.7627 - fmeasure: 0.7560 - val_loss: 0.7327 - val_acc: 0.7444 - val_fmeasure: 0.7354\n",
      "Epoch 16/25\n",
      "40000/40000 [==============================] - 112s 3ms/step - loss: 0.6496 - acc: 0.7689 - fmeasure: 0.7633 - val_loss: 0.7208 - val_acc: 0.7464 - val_fmeasure: 0.7466\n",
      "Epoch 17/25\n",
      "40000/40000 [==============================] - 112s 3ms/step - loss: 0.6229 - acc: 0.7790 - fmeasure: 0.7754 - val_loss: 0.7185 - val_acc: 0.7491 - val_fmeasure: 0.7478\n",
      "Epoch 18/25\n",
      "40000/40000 [==============================] - 113s 3ms/step - loss: 0.5990 - acc: 0.7879 - fmeasure: 0.7824 - val_loss: 0.7060 - val_acc: 0.7578 - val_fmeasure: 0.7544\n",
      "Epoch 19/25\n",
      "40000/40000 [==============================] - 113s 3ms/step - loss: 0.5749 - acc: 0.7965 - fmeasure: 0.7921 - val_loss: 0.6968 - val_acc: 0.7608 - val_fmeasure: 0.7579\n",
      "Epoch 20/25\n",
      "40000/40000 [==============================] - 114s 3ms/step - loss: 0.5572 - acc: 0.8001 - fmeasure: 0.7978 - val_loss: 0.7092 - val_acc: 0.7557 - val_fmeasure: 0.7589\n",
      "Epoch 21/25\n",
      "40000/40000 [==============================] - 113s 3ms/step - loss: 0.5311 - acc: 0.8102 - fmeasure: 0.8081 - val_loss: 0.6911 - val_acc: 0.7638 - val_fmeasure: 0.7680\n",
      "Epoch 22/25\n",
      "40000/40000 [==============================] - 113s 3ms/step - loss: 0.5118 - acc: 0.8171 - fmeasure: 0.8155 - val_loss: 0.6898 - val_acc: 0.7632 - val_fmeasure: 0.7623\n",
      "Epoch 23/25\n",
      "40000/40000 [==============================] - 112s 3ms/step - loss: 0.4983 - acc: 0.8219 - fmeasure: 0.8186 - val_loss: 0.6725 - val_acc: 0.7696 - val_fmeasure: 0.7697\n",
      "Epoch 24/25\n",
      "40000/40000 [==============================] - 112s 3ms/step - loss: 0.4765 - acc: 0.8307 - fmeasure: 0.8289 - val_loss: 0.6986 - val_acc: 0.7654 - val_fmeasure: 0.7687\n",
      "Epoch 25/25\n",
      "40000/40000 [==============================] - 112s 3ms/step - loss: 0.4634 - acc: 0.8340 - fmeasure: 0.8318 - val_loss: 0.6619 - val_acc: 0.7717 - val_fmeasure: 0.7743\n",
      "Accuracy: 77.17%\n",
      "Train on 40000 samples, validate on 10000 samples\n",
      "Epoch 1/25\n",
      "40000/40000 [==============================] - 112s 3ms/step - loss: 0.5261 - acc: 0.8181 - fmeasure: 0.8159 - val_loss: 0.3826 - val_acc: 0.8757 - val_fmeasure: 0.8728\n",
      "Epoch 2/25\n",
      "40000/40000 [==============================] - 113s 3ms/step - loss: 0.4956 - acc: 0.8254 - fmeasure: 0.8235 - val_loss: 0.3781 - val_acc: 0.8827 - val_fmeasure: 0.8754\n",
      "Epoch 3/25\n",
      "40000/40000 [==============================] - 112s 3ms/step - loss: 0.4826 - acc: 0.8308 - fmeasure: 0.8290 - val_loss: 0.3778 - val_acc: 0.8801 - val_fmeasure: 0.8718\n",
      "Epoch 4/25\n",
      "40000/40000 [==============================] - 112s 3ms/step - loss: 0.4670 - acc: 0.8374 - fmeasure: 0.8345 - val_loss: 0.3682 - val_acc: 0.8848 - val_fmeasure: 0.8774\n",
      "Epoch 5/25\n",
      "40000/40000 [==============================] - 112s 3ms/step - loss: 0.4514 - acc: 0.8404 - fmeasure: 0.8392 - val_loss: 0.3668 - val_acc: 0.8760 - val_fmeasure: 0.8743\n",
      "Epoch 6/25\n",
      "40000/40000 [==============================] - 113s 3ms/step - loss: 0.4364 - acc: 0.8461 - fmeasure: 0.8448 - val_loss: 0.3746 - val_acc: 0.8776 - val_fmeasure: 0.8741\n",
      "Epoch 7/25\n",
      "40000/40000 [==============================] - 113s 3ms/step - loss: 0.4249 - acc: 0.8491 - fmeasure: 0.8477 - val_loss: 0.3712 - val_acc: 0.8763 - val_fmeasure: 0.8755\n",
      "Epoch 8/25\n",
      "40000/40000 [==============================] - 112s 3ms/step - loss: 0.4086 - acc: 0.8547 - fmeasure: 0.8538 - val_loss: 0.3673 - val_acc: 0.8761 - val_fmeasure: 0.8760\n",
      "Epoch 9/25\n",
      "40000/40000 [==============================] - 113s 3ms/step - loss: 0.3959 - acc: 0.8595 - fmeasure: 0.8597 - val_loss: 0.3738 - val_acc: 0.8770 - val_fmeasure: 0.8746\n",
      "Epoch 10/25\n",
      "40000/40000 [==============================] - 112s 3ms/step - loss: 0.3822 - acc: 0.8651 - fmeasure: 0.8649 - val_loss: 0.3681 - val_acc: 0.8770 - val_fmeasure: 0.8766\n",
      "Epoch 11/25\n",
      "40000/40000 [==============================] - 112s 3ms/step - loss: 0.3749 - acc: 0.8663 - fmeasure: 0.8662 - val_loss: 0.3812 - val_acc: 0.8712 - val_fmeasure: 0.8705\n",
      "Epoch 12/25\n",
      "40000/40000 [==============================] - 112s 3ms/step - loss: 0.3622 - acc: 0.8715 - fmeasure: 0.8710 - val_loss: 0.3742 - val_acc: 0.8747 - val_fmeasure: 0.8733\n",
      "Epoch 13/25\n",
      "40000/40000 [==============================] - 112s 3ms/step - loss: 0.3539 - acc: 0.8744 - fmeasure: 0.8733 - val_loss: 0.3727 - val_acc: 0.8727 - val_fmeasure: 0.8726\n",
      "Epoch 14/25\n",
      "40000/40000 [==============================] - 112s 3ms/step - loss: 0.3446 - acc: 0.8767 - fmeasure: 0.8766 - val_loss: 0.3658 - val_acc: 0.8765 - val_fmeasure: 0.8770\n",
      "Epoch 15/25\n",
      "40000/40000 [==============================] - 112s 3ms/step - loss: 0.3340 - acc: 0.8815 - fmeasure: 0.8812 - val_loss: 0.3723 - val_acc: 0.8745 - val_fmeasure: 0.8742\n",
      "Epoch 16/25\n",
      "40000/40000 [==============================] - 112s 3ms/step - loss: 0.3251 - acc: 0.8841 - fmeasure: 0.8849 - val_loss: 0.3754 - val_acc: 0.8707 - val_fmeasure: 0.8710\n",
      "Epoch 17/25\n",
      "40000/40000 [==============================] - 113s 3ms/step - loss: 0.3106 - acc: 0.8895 - fmeasure: 0.8887 - val_loss: 0.3749 - val_acc: 0.8731 - val_fmeasure: 0.8745\n",
      "Epoch 18/25\n",
      "40000/40000 [==============================] - 113s 3ms/step - loss: 0.3100 - acc: 0.8892 - fmeasure: 0.8891 - val_loss: 0.3701 - val_acc: 0.8754 - val_fmeasure: 0.8749\n",
      "Epoch 19/25\n",
      "40000/40000 [==============================] - 113s 3ms/step - loss: 0.2980 - acc: 0.8936 - fmeasure: 0.8927 - val_loss: 0.3790 - val_acc: 0.8719 - val_fmeasure: 0.8739\n"
     ]
    },
    {
     "name": "stdout",
     "output_type": "stream",
     "text": [
      "Epoch 20/25\n",
      "40000/40000 [==============================] - 113s 3ms/step - loss: 0.2938 - acc: 0.8950 - fmeasure: 0.8945 - val_loss: 0.3898 - val_acc: 0.8698 - val_fmeasure: 0.8707\n",
      "Epoch 21/25\n",
      "40000/40000 [==============================] - 112s 3ms/step - loss: 0.2861 - acc: 0.8977 - fmeasure: 0.8978 - val_loss: 0.3875 - val_acc: 0.8683 - val_fmeasure: 0.8689\n",
      "Epoch 22/25\n",
      "40000/40000 [==============================] - 112s 3ms/step - loss: 0.2735 - acc: 0.9027 - fmeasure: 0.9030 - val_loss: 0.3809 - val_acc: 0.8728 - val_fmeasure: 0.8716\n",
      "Epoch 23/25\n",
      "40000/40000 [==============================] - 112s 3ms/step - loss: 0.2702 - acc: 0.9045 - fmeasure: 0.9044 - val_loss: 0.3954 - val_acc: 0.8664 - val_fmeasure: 0.8682\n",
      "Epoch 24/25\n",
      "40000/40000 [==============================] - 113s 3ms/step - loss: 0.2630 - acc: 0.9068 - fmeasure: 0.9063 - val_loss: 0.3833 - val_acc: 0.8707 - val_fmeasure: 0.8726\n",
      "Epoch 25/25\n",
      "40000/40000 [==============================] - 112s 3ms/step - loss: 0.2565 - acc: 0.9078 - fmeasure: 0.9077 - val_loss: 0.3912 - val_acc: 0.8689 - val_fmeasure: 0.8735\n",
      "Accuracy: 86.89%\n"
     ]
    }
   ],
   "source": [
    "seed = 7\n",
    "np.random.seed(seed)\n",
    "\n",
    "# load data\n",
    "(X_train, y_train), (X_test, y_test) = cifar10.load_data()\n",
    "\n",
    "X_train = X_train.astype('float32')\n",
    "X_test = X_test.astype('float32')\n",
    "X_train = X_train / 255.0\n",
    "X_test = X_test / 255.0\n",
    "\n",
    "y_train = np_utils.to_categorical(y_train)\n",
    "y_test = np_utils.to_categorical(y_test)\n",
    "num_classes = y_test.shape[1]\n",
    "\n",
    "cv = StratifiedShuffleSplit(n_splits=2, test_size=.2)\n",
    "for train_index, test_index in cv.split(X_train, y_train):\n",
    "    model.fit(X_train[train_index], y_train[train_index], validation_data=(X_train[test_index], y_train[test_index]), epochs=epochs, batch_size=64)\n",
    "    # Final evaluation of the model\n",
    "    scores = model.evaluate(X_train[test_index], y_train[test_index], verbose=0)\n",
    "    print(\"Accuracy: %.2f%%\" % (scores[1]*100))"
   ]
  },
  {
   "cell_type": "markdown",
   "metadata": {},
   "source": [
    "TEMP"
   ]
  },
  {
   "cell_type": "code",
   "execution_count": 31,
   "metadata": {},
   "outputs": [
    {
     "data": {
      "image/png": "[encoded data removed]",
      "text/plain": [
       "<Figure size 1080x360 with 2 Axes>"
      ]
     },
     "metadata": {},
     "output_type": "display_data"
    }
   ],
   "source": [
    "(X_train, y_train), (X_test, y_test) = cifar10.load_data()\n",
    "\n",
    "summarize_net(model, X_test, y_test, title_text='Using Basic CNN')"
   ]
  },
  {
   "cell_type": "code",
   "execution_count": 33,
   "metadata": {},
   "outputs": [
    {
     "data": {
      "image/png": "[encoded data removed]",
      "text/plain": [
       "<Figure size 432x288 with 15 Axes>"
      ]
     },
     "metadata": {},
     "output_type": "display_data"
    },
    {
     "data": {
      "image/png": "[encoded data removed]",
      "text/plain": [
       "<Figure size 432x288 with 15 Axes>"
      ]
     },
     "metadata": {},
     "output_type": "display_data"
    },
    {
     "data": {
      "image/png": "[encoded data removed]",
      "text/plain": [
       "<Figure size 432x288 with 15 Axes>"
      ]
     },
     "metadata": {},
     "output_type": "display_data"
    },
    {
     "data": {
      "image/png": "[encoded data removed]",
      "text/plain": [
       "<Figure size 432x288 with 15 Axes>"
      ]
     },
     "metadata": {},
     "output_type": "display_data"
    },
    {
     "data": {
      "image/png": "[encoded data removed]",
      "text/plain": [
       "<Figure size 432x288 with 15 Axes>"
      ]
     },
     "metadata": {},
     "output_type": "display_data"
    },
    {
     "data": {
      "image/png": "[encoded data removed]",
      "text/plain": [
       "<Figure size 432x288 with 15 Axes>"
      ]
     },
     "metadata": {},
     "output_type": "display_data"
    }
   ],
   "source": [
    "max_plots = 15\n",
    "for layer in model.layers:\n",
    "    if type(layer) == keras.layers.convolutional.Conv2D:\n",
    "        weights = layer.get_weights()[0]\n",
    "        for i in range(min(weights.shape[-1], max_plots)):\n",
    "            plt.subplot(1, min(weights.shape[-1], max_plots), i+1)\n",
    "            plt.imshow(weights[:,:,0,i])\n",
    "            plt.axis('off')\n",
    "        plt.show()"
   ]
  },
  {
   "cell_type": "markdown",
   "metadata": {},
   "source": [
    "## MLP"
   ]
  },
  {
   "cell_type": "markdown",
   "metadata": {},
   "source": [
    "TEMP"
   ]
  },
  {
   "cell_type": "code",
   "execution_count": 44,
   "metadata": {},
   "outputs": [
    {
     "name": "stdout",
     "output_type": "stream",
     "text": [
      "Labels:\n",
      "0 --> airplane\n",
      "1 --> automobile\n",
      "2 --> bird\n",
      "3 --> cat\n",
      "4 --> deer\n",
      "5 --> dog\n",
      "6 --> frog\n",
      "7 --> horse\n",
      "8 --> ship\n",
      "9 --> truck\n",
      "\n",
      "n_samples: 60000\n",
      "n_features: 1024\n",
      "n_classes: 10\n",
      "Original Image Size: 32 x 32\n"
     ]
    }
   ],
   "source": [
    "###\n",
    "# Download dataset from http://www.cs.toronto.edu/~kriz/cifar-10-python.tar.gz\n",
    "# save all files to ./data/\n",
    "###\n",
    "\n",
    "def get_images(): # stuck this in a function to clean up memory \n",
    "    dics = []\n",
    "    for root, directory, files in os.walk('../data/cifar-10-batches-py'):\n",
    "        for f in files:\n",
    "            if 'data_batch' in f or 'test_batch' in f:\n",
    "                with open(root+'/'+f, 'rb') as fo:\n",
    "                    dics.append(pickle.load(fo, encoding='latin1'))\n",
    "\n",
    "    img_color = []\n",
    "    img_labels = []\n",
    "    for dic in dics:\n",
    "        for i in range(len(dic['data'])):\n",
    "            img_color.append(dic['data'][i]) # 1D img (1024 R, 1024 G, 1024 B)\n",
    "            img_labels.append(dic['labels'][i]) # int representing the label\n",
    "\n",
    "    img_color = np.array(img_color)\n",
    "    img_labels = np.array(img_labels)\n",
    "\n",
    "    # grab the mapping between label names and IDs\n",
    "    print('Labels:')\n",
    "    labels = {}\n",
    "    with open('../data/cifar-10-batches-py/batches.meta', 'rb') as fo:\n",
    "        labels_tmp = pickle.load(fo, encoding='latin1')\n",
    "        for i in range(len(labels_tmp['label_names'])):\n",
    "            labels[i] = labels_tmp['label_names'][i]\n",
    "            print(i, \"-->\", labels_tmp['label_names'][i])\n",
    "    print()\n",
    "\n",
    "    img_label_names = np.array([labels[x] for x in img_labels])\n",
    "\n",
    "    def toGrayscale(img):\n",
    "        r, g, b = img[:1024], img[1024:2048], img[2048:]\n",
    "        gray = 0.2989 * r + 0.5870 * g + 0.1140 * b\n",
    "        return gray\n",
    "\n",
    "    img_gray = np.array([toGrayscale(x) for x in img_color])\n",
    "    \n",
    "    return (img_color, img_gray, img_labels, img_label_names)\n",
    "\n",
    "img_color, img_gray, img_labels, img_label_names = get_images()\n",
    "img_gray = img_gray\n",
    "img_labels = img_labels\n",
    "print(\"n_samples: {}\".format(len(img_gray)))\n",
    "print(\"n_features: {}\".format(len(img_gray[0])))\n",
    "print(\"n_classes: {}\".format(len(np.unique(img_labels))))\n",
    "print(\"Original Image Size: {} x {}\".format(32, 32))"
   ]
  },
  {
   "cell_type": "code",
   "execution_count": 45,
   "metadata": {},
   "outputs": [
    {
     "ename": "NameError",
     "evalue": "name 'daisy' is not defined",
     "output_type": "error",
     "traceback": [
      "\u001b[0;31m---------------------------------------------------------------------------\u001b[0m",
      "\u001b[0;31mNameError\u001b[0m                                 Traceback (most recent call last)",
      "\u001b[0;32m<ipython-input-45-c8fe40142887>\u001b[0m in \u001b[0;36m<module>\u001b[0;34m()\u001b[0m\n\u001b[1;32m      6\u001b[0m         \u001b[0mrings\u001b[0m\u001b[0;34m=\u001b[0m\u001b[0;36m2\u001b[0m\u001b[0;34m,\u001b[0m\u001b[0;34m\u001b[0m\u001b[0m\n\u001b[1;32m      7\u001b[0m         \u001b[0mhistograms\u001b[0m\u001b[0;34m=\u001b[0m\u001b[0;36m8\u001b[0m\u001b[0;34m,\u001b[0m\u001b[0;34m\u001b[0m\u001b[0m\n\u001b[0;32m----> 8\u001b[0;31m         orientations=5))) for x in img_gray])\n\u001b[0m",
      "\u001b[0;32m<ipython-input-45-c8fe40142887>\u001b[0m in \u001b[0;36m<listcomp>\u001b[0;34m(.0)\u001b[0m\n\u001b[1;32m      6\u001b[0m         \u001b[0mrings\u001b[0m\u001b[0;34m=\u001b[0m\u001b[0;36m2\u001b[0m\u001b[0;34m,\u001b[0m\u001b[0;34m\u001b[0m\u001b[0m\n\u001b[1;32m      7\u001b[0m         \u001b[0mhistograms\u001b[0m\u001b[0;34m=\u001b[0m\u001b[0;36m8\u001b[0m\u001b[0;34m,\u001b[0m\u001b[0;34m\u001b[0m\u001b[0m\n\u001b[0;32m----> 8\u001b[0;31m         orientations=5))) for x in img_gray])\n\u001b[0m",
      "\u001b[0;31mNameError\u001b[0m: name 'daisy' is not defined"
     ]
    }
   ],
   "source": [
    "daisies = np.array([np.concatenate(\n",
    "    np.concatenate(daisy(\n",
    "        x.reshape((32,32)), \n",
    "        step=16, \n",
    "        radius=7, \n",
    "        rings=2, \n",
    "        histograms=8, \n",
    "        orientations=5))) for x in img_gray])"
   ]
  },
  {
   "cell_type": "code",
   "execution_count": 46,
   "metadata": {},
   "outputs": [
    {
     "ename": "NameError",
     "evalue": "name 'daisies' is not defined",
     "output_type": "error",
     "traceback": [
      "\u001b[0;31m---------------------------------------------------------------------------\u001b[0m",
      "\u001b[0;31mNameError\u001b[0m                                 Traceback (most recent call last)",
      "\u001b[0;32m<ipython-input-46-8a2b40725b8e>\u001b[0m in \u001b[0;36m<module>\u001b[0;34m()\u001b[0m\n\u001b[1;32m      1\u001b[0m \u001b[0;31m# SKLearn's implementation\u001b[0m\u001b[0;34m\u001b[0m\u001b[0;34m\u001b[0m\u001b[0m\n\u001b[0;32m----> 2\u001b[0;31m \u001b[0mx\u001b[0m \u001b[0;34m=\u001b[0m \u001b[0mdaisies\u001b[0m\u001b[0;34m\u001b[0m\u001b[0m\n\u001b[0m\u001b[1;32m      3\u001b[0m \u001b[0my\u001b[0m \u001b[0;34m=\u001b[0m \u001b[0mimg_labels\u001b[0m\u001b[0;34m\u001b[0m\u001b[0m\n\u001b[1;32m      4\u001b[0m \u001b[0mcv\u001b[0m \u001b[0;34m=\u001b[0m \u001b[0mStratifiedShuffleSplit\u001b[0m\u001b[0;34m(\u001b[0m\u001b[0mn_splits\u001b[0m\u001b[0;34m=\u001b[0m\u001b[0;36m2\u001b[0m\u001b[0;34m,\u001b[0m \u001b[0mtest_size\u001b[0m\u001b[0;34m=\u001b[0m\u001b[0;36m.2\u001b[0m\u001b[0;34m)\u001b[0m\u001b[0;34m\u001b[0m\u001b[0m\n\u001b[1;32m      5\u001b[0m \u001b[0mpl\u001b[0m \u001b[0;34m=\u001b[0m \u001b[0mPipeline\u001b[0m\u001b[0;34m(\u001b[0m\u001b[0;34m[\u001b[0m\u001b[0;34m(\u001b[0m\u001b[0;34m'scaler'\u001b[0m\u001b[0;34m,\u001b[0m \u001b[0mStandardScaler\u001b[0m\u001b[0;34m(\u001b[0m\u001b[0;34m)\u001b[0m\u001b[0;34m)\u001b[0m\u001b[0;34m,\u001b[0m \u001b[0;34m(\u001b[0m\u001b[0;34m'TLP'\u001b[0m\u001b[0;34m,\u001b[0m \u001b[0mMLPClassifier\u001b[0m\u001b[0;34m(\u001b[0m\u001b[0;34m)\u001b[0m\u001b[0;34m)\u001b[0m\u001b[0;34m]\u001b[0m\u001b[0;34m)\u001b[0m\u001b[0;34m\u001b[0m\u001b[0m\n",
      "\u001b[0;31mNameError\u001b[0m: name 'daisies' is not defined"
     ]
    }
   ],
   "source": [
    "# SKLearn's implementation\n",
    "x = daisies\n",
    "y = img_labels\n",
    "cv = StratifiedShuffleSplit(n_splits=2, test_size=.2)\n",
    "pl = Pipeline([('scaler', StandardScaler()), ('TLP', MLPClassifier())])\n",
    "for train_index, test_index in cv.split(x, y):\n",
    "    pl.fit(x[train_index], y[train_index])\n",
    "    yhat_mlp = pl.predict(x[test_index])\n",
    "    print('f1 score:', mt.f1_score(y[test_index], yhat_mlp, average='macro'))\n",
    "    print(np.bincount(yhat_mlp))"
   ]
  },
  {
   "cell_type": "code",
   "execution_count": 47,
   "metadata": {},
   "outputs": [
    {
     "ename": "NameError",
     "evalue": "name 'y' is not defined",
     "output_type": "error",
     "traceback": [
      "\u001b[0;31m---------------------------------------------------------------------------\u001b[0m",
      "\u001b[0;31mNameError\u001b[0m                                 Traceback (most recent call last)",
      "\u001b[0;32m<ipython-input-47-c401834743ad>\u001b[0m in \u001b[0;36m<module>\u001b[0;34m()\u001b[0m\n\u001b[1;32m      1\u001b[0m \u001b[0mplt\u001b[0m\u001b[0;34m.\u001b[0m\u001b[0mfigure\u001b[0m\u001b[0;34m(\u001b[0m\u001b[0mfigsize\u001b[0m\u001b[0;34m=\u001b[0m\u001b[0;34m(\u001b[0m\u001b[0;36m15\u001b[0m\u001b[0;34m,\u001b[0m\u001b[0;36m5\u001b[0m\u001b[0;34m)\u001b[0m\u001b[0;34m)\u001b[0m\u001b[0;34m\u001b[0m\u001b[0m\n\u001b[0;32m----> 2\u001b[0;31m \u001b[0mcm\u001b[0m \u001b[0;34m=\u001b[0m \u001b[0mmt\u001b[0m\u001b[0;34m.\u001b[0m\u001b[0mconfusion_matrix\u001b[0m\u001b[0;34m(\u001b[0m\u001b[0my\u001b[0m\u001b[0;34m[\u001b[0m\u001b[0mtest_index\u001b[0m\u001b[0;34m]\u001b[0m\u001b[0;34m,\u001b[0m\u001b[0myhat_mlp\u001b[0m\u001b[0;34m)\u001b[0m\u001b[0;34m\u001b[0m\u001b[0m\n\u001b[0m\u001b[1;32m      3\u001b[0m \u001b[0mcm\u001b[0m \u001b[0;34m=\u001b[0m \u001b[0mcm\u001b[0m\u001b[0;34m/\u001b[0m\u001b[0mnp\u001b[0m\u001b[0;34m.\u001b[0m\u001b[0msum\u001b[0m\u001b[0;34m(\u001b[0m\u001b[0mcm\u001b[0m\u001b[0;34m,\u001b[0m\u001b[0maxis\u001b[0m\u001b[0;34m=\u001b[0m\u001b[0;36m1\u001b[0m\u001b[0;34m)\u001b[0m\u001b[0;34m[\u001b[0m\u001b[0;34m:\u001b[0m\u001b[0;34m,\u001b[0m\u001b[0mnp\u001b[0m\u001b[0;34m.\u001b[0m\u001b[0mnewaxis\u001b[0m\u001b[0;34m]\u001b[0m\u001b[0;34m\u001b[0m\u001b[0m\n\u001b[1;32m      4\u001b[0m \u001b[0macc\u001b[0m \u001b[0;34m=\u001b[0m \u001b[0mmt\u001b[0m\u001b[0;34m.\u001b[0m\u001b[0maccuracy_score\u001b[0m\u001b[0;34m(\u001b[0m\u001b[0my\u001b[0m\u001b[0;34m[\u001b[0m\u001b[0mtest_index\u001b[0m\u001b[0;34m]\u001b[0m\u001b[0;34m,\u001b[0m\u001b[0myhat_mlp\u001b[0m\u001b[0;34m)\u001b[0m\u001b[0;34m\u001b[0m\u001b[0m\n\u001b[1;32m      5\u001b[0m \u001b[0mf1\u001b[0m \u001b[0;34m=\u001b[0m \u001b[0mmt\u001b[0m\u001b[0;34m.\u001b[0m\u001b[0mf1_score\u001b[0m\u001b[0;34m(\u001b[0m\u001b[0my\u001b[0m\u001b[0;34m[\u001b[0m\u001b[0mtest_index\u001b[0m\u001b[0;34m]\u001b[0m\u001b[0;34m,\u001b[0m\u001b[0myhat_mlp\u001b[0m\u001b[0;34m,\u001b[0m \u001b[0maverage\u001b[0m\u001b[0;34m=\u001b[0m\u001b[0;34m\"macro\"\u001b[0m\u001b[0;34m)\u001b[0m\u001b[0;34m\u001b[0m\u001b[0m\n",
      "\u001b[0;31mNameError\u001b[0m: name 'y' is not defined"
     ]
    },
    {
     "data": {
      "text/plain": [
       "<Figure size 1080x360 with 0 Axes>"
      ]
     },
     "metadata": {},
     "output_type": "display_data"
    }
   ],
   "source": [
    "plt.figure(figsize=(15,5))\n",
    "cm = mt.confusion_matrix(y[test_index],yhat_mlp)\n",
    "cm = cm/np.sum(cm,axis=1)[:,np.newaxis]\n",
    "acc = mt.accuracy_score(y[test_index],yhat_mlp)\n",
    "f1 = mt.f1_score(y[test_index],yhat_mlp, average=\"macro\")\n",
    "sns.heatmap(cm, annot=True, fmt='.2f')\n",
    "plt.title(\"Using MLP:\"+'f1: {:.4f}'.format(f1)+' acc: {:.4f}'.format(acc))"
   ]
  },
  {
   "cell_type": "code",
   "execution_count": null,
   "metadata": {},
   "outputs": [],
   "source": []
  }
 ],
 "metadata": {
  "kernelspec": {
   "display_name": "Python 3",
   "language": "python",
   "name": "python3"
  },
  "language_info": {
   "codemirror_mode": {
    "name": "ipython",
    "version": 3
   },
   "file_extension": ".py",
   "mimetype": "text/x-python",
   "name": "python",
   "nbconvert_exporter": "python",
   "pygments_lexer": "ipython3",
   "version": "3.6.5"
  }
 },
 "nbformat": 4,
 "nbformat_minor": 2
}
